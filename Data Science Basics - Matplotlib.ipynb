{
 "cells": [
  {
   "cell_type": "markdown",
   "metadata": {},
   "source": [
    "# Data Science Basics - Matplotlib"
   ]
  },
  {
   "cell_type": "code",
   "execution_count": null,
   "metadata": {},
   "outputs": [],
   "source": [
    "import matplotlib.pyplot as plt\n",
    "import numpy as np\n",
    "import pandas as pd"
   ]
  },
  {
   "cell_type": "markdown",
   "metadata": {},
   "source": [
    "## Basic Graph"
   ]
  },
  {
   "cell_type": "code",
   "execution_count": null,
   "metadata": {},
   "outputs": [],
   "source": [
    "x = [0, 1, 2, 3, 4]\n",
    "y = [0, 2, 4, 6, 8]\n",
    "plt.plot(x, y)\n",
    "plt.title(\"First Graph\")\n",
    "plt.xlabel(\"X Axis\")\n",
    "plt.ylabel(\"Y Axis\")\n",
    "\n",
    "plt.show()"
   ]
  },
  {
   "cell_type": "code",
   "execution_count": null,
   "metadata": {},
   "outputs": [],
   "source": [
    "# Managing the ticks. The counter on X and Y axis\n",
    "x = [0, 1, 2, 3, 4]\n",
    "y = [0, 2, 4, 6, 8]\n",
    "plt.plot(x, y)\n",
    "plt.title(\"First Graph\")\n",
    "plt.xlabel(\"X Axis\")\n",
    "plt.ylabel(\"Y Axis\")\n",
    "plt.xticks([0, 1, 2, 3, 4])  # Adding X ticks\n",
    "plt.yticks([0, 2, 4, 6, 8, 10])  # Adding Y ticks\n",
    "plt.show()"
   ]
  },
  {
   "cell_type": "code",
   "execution_count": null,
   "metadata": {},
   "outputs": [],
   "source": [
    "# Labels and legends\n",
    "x = [0, 1, 2, 3, 4]\n",
    "y = [0, 2, 4, 6, 8]\n",
    "\n",
    "# Added label, color, etc.,\n",
    "plt.plot(\n",
    "    x,\n",
    "    y,\n",
    "    label=\"2x\",\n",
    "    color=\"red\",\n",
    "    linewidth=2,\n",
    "    marker=\".\",\n",
    "    markersize=10,\n",
    "    markeredgecolor=\"blue\",\n",
    ")\n",
    "\n",
    "plt.title(\"First Graph\")\n",
    "plt.xlabel(\"X Axis\")\n",
    "plt.ylabel(\"Y Axis\")\n",
    "plt.xticks([0, 1, 2, 3, 4])\n",
    "plt.yticks([0, 2, 4, 6, 8, 10])\n",
    "plt.legend()  # Displaying legend\n",
    "plt.show()"
   ]
  },
  {
   "cell_type": "code",
   "execution_count": null,
   "metadata": {},
   "outputs": [],
   "source": [
    "# Multiple Lines\n",
    "\n",
    "x = [0, 1, 2, 3, 4]\n",
    "y = [0, 2, 4, 6, 8]\n",
    "\n",
    "# Added label, color, etc.,\n",
    "plt.plot(\n",
    "    x,\n",
    "    y,\n",
    "    label=\"2x\",\n",
    "    color=\"red\",\n",
    "    linewidth=2,\n",
    "    marker=\".\",\n",
    "    markersize=10,\n",
    "    markeredgecolor=\"blue\",\n",
    ")\n",
    "\n",
    "# Line no. Two\n",
    "x2 = np.arange(0, 4, 0.5)\n",
    "plt.plot(\n",
    "    x2,\n",
    "    x2 ** 2,\n",
    "    label=\"x2**2\",\n",
    "    color=\"blue\",\n",
    "    linewidth=2,\n",
    "    marker=\".\",\n",
    "    markersize=10,\n",
    "    markeredgecolor=\"blue\",\n",
    ")\n",
    "\n",
    "plt.title(\"First Graph\")\n",
    "plt.xlabel(\"X Axis\")\n",
    "plt.ylabel(\"Y Axis\")\n",
    "plt.xticks([0, 1, 2, 3, 4])\n",
    "plt.yticks([0, 2, 4, 6, 8, 10])\n",
    "plt.legend()  # Displaying legend\n",
    "plt.show()"
   ]
  },
  {
   "cell_type": "code",
   "execution_count": null,
   "metadata": {},
   "outputs": [],
   "source": [
    "# Resizing the graph\n",
    "x = [0, 1, 2, 3, 4]\n",
    "y = [0, 2, 4, 6, 8]\n",
    "\n",
    "plt.figure(figsize=(5, 3))  # Size of the graph\n",
    "\n",
    "plt.plot(\n",
    "    x,\n",
    "    y,\n",
    "    label=\"2x\",\n",
    "    color=\"red\",\n",
    "    linewidth=2,\n",
    "    marker=\".\",\n",
    "    markersize=10,\n",
    "    markeredgecolor=\"blue\",\n",
    ")\n",
    "\n",
    "x2 = np.arange(0, 4, 0.5)\n",
    "plt.plot(\n",
    "    x2,\n",
    "    x2 ** 2,\n",
    "    label=\"x2**2\",\n",
    "    color=\"blue\",\n",
    "    linewidth=2,\n",
    "    marker=\".\",\n",
    "    markersize=10,\n",
    "    markeredgecolor=\"blue\",\n",
    ")\n",
    "\n",
    "plt.title(\"First Graph\")\n",
    "plt.xlabel(\"X Axis\")\n",
    "plt.ylabel(\"Y Axis\")\n",
    "plt.xticks([0, 1, 2, 3, 4])\n",
    "plt.yticks([0, 2, 4, 6, 8, 10])\n",
    "plt.legend()\n",
    "plt.show()"
   ]
  },
  {
   "cell_type": "markdown",
   "metadata": {},
   "source": [
    "## Bar Chart"
   ]
  },
  {
   "cell_type": "code",
   "execution_count": null,
   "metadata": {},
   "outputs": [],
   "source": [
    "labels = [\"A\", \"B\", \"C\"]\n",
    "values = [1, 4, 2]\n",
    "\n",
    "plt.bar(labels, values)\n",
    "plt.show()"
   ]
  }
 ],
 "metadata": {
  "kernelspec": {
   "display_name": "Python 3",
   "language": "python",
   "name": "python3"
  },
  "language_info": {
   "codemirror_mode": {
    "name": "ipython",
    "version": 3
   },
   "file_extension": ".py",
   "mimetype": "text/x-python",
   "name": "python",
   "nbconvert_exporter": "python",
   "pygments_lexer": "ipython3",
   "version": "3.7.9"
  }
 },
 "nbformat": 4,
 "nbformat_minor": 4
}
