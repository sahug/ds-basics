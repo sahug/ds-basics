{
 "cells": [
  {
   "cell_type": "code",
   "execution_count": null,
   "id": "e2802a4b",
   "metadata": {},
   "outputs": [],
   "source": [
    "import pandas as pd\n",
    "from sklearn import model_selection"
   ]
  },
  {
   "cell_type": "markdown",
   "id": "e4697e01",
   "metadata": {},
   "source": [
    "# Create Folds\n",
    "\n",
    "This is important step for blending and stacking. All data needs to be Stratified."
   ]
  },
  {
   "cell_type": "code",
   "execution_count": null,
   "id": "91dc8b69",
   "metadata": {},
   "outputs": [],
   "source": [
    "df = pd.read_csv(\"data/labeledTrainData.tsv\", sep=\"\\t\")\n",
    "df.loc[:, \"kfold\"] = -1\n",
    "df = df.sample(frac=1).reset_index(drop=True)\n",
    "\n",
    "y = df.sentiment.values\n",
    "skf = model_selection.StratifiedKFold(n_splits=5)"
   ]
  },
  {
   "cell_type": "code",
   "execution_count": null,
   "id": "e308ff35",
   "metadata": {},
   "outputs": [],
   "source": [
    "for f, (t_, v_) in enumerate(skf.split(X=df, y=y)):\n",
    "    df.loc[v_, \"kfold\"] = f\n",
    "\n",
    "df.to_csv(\"data/train_folds.csv\", index=False)"
   ]
  },
  {
   "cell_type": "markdown",
   "id": "5d84b945",
   "metadata": {},
   "source": [
    "# Check the Folds"
   ]
  },
  {
   "cell_type": "code",
   "execution_count": null,
   "id": "de2eb810",
   "metadata": {},
   "outputs": [],
   "source": [
    "folds = pd.read_csv(\"data/train_folds.csv\")\n",
    "folds.kfold.value_counts()"
   ]
  },
  {
   "cell_type": "markdown",
   "id": "5bc7b8ab",
   "metadata": {},
   "source": [
    "# Model 1: Logistic Regression Model (TfidfVectorizer)"
   ]
  },
  {
   "cell_type": "code",
   "execution_count": null,
   "id": "5a9e78b9",
   "metadata": {},
   "outputs": [],
   "source": [
    "from sklearn import linear_model, metrics\n",
    "from sklearn.feature_extraction.text import TfidfVectorizer"
   ]
  },
  {
   "cell_type": "code",
   "execution_count": null,
   "id": "06686084",
   "metadata": {},
   "outputs": [],
   "source": [
    "def run_training(fold):\n",
    "    df = pd.read_csv(\"data/train_folds.csv\")\n",
    "    df.review = df.review.apply(str)\n",
    "\n",
    "    df_train = df[df.kfold != fold].reset_index(drop=True)\n",
    "    df_valid = df[df.kfold == fold].reset_index(drop=True)\n",
    "\n",
    "    tfv = TfidfVectorizer()\n",
    "    tfv.fit(df_train.review.values)\n",
    "\n",
    "    xtrain = tfv.transform(df_train.review.values)\n",
    "    xvalid = tfv.transform(df_valid.review.values)\n",
    "\n",
    "    ytrain = df_train.sentiment.values\n",
    "    yvalid = df_valid.sentiment.values\n",
    "\n",
    "    clf = linear_model.LogisticRegression()\n",
    "    clf.fit(xtrain, ytrain)\n",
    "    pred = clf.predict_proba(xvalid)[:, 1]\n",
    "\n",
    "    auc = metrics.roc_auc_score(yvalid, pred)\n",
    "    print(\"fold : %2d, auc : %f\" % (fold, auc))\n",
    "\n",
    "    df_valid.loc[:, \"lr_tf_pred\"] = pred\n",
    "\n",
    "    #     return df_valid\n",
    "    return df_valid[[\"id\", \"sentiment\", \"kfold\", \"lr_tf_pred\"]]"
   ]
  },
  {
   "cell_type": "code",
   "execution_count": null,
   "id": "b33848b0",
   "metadata": {},
   "outputs": [],
   "source": [
    "dfs = []\n",
    "for j in range(5):\n",
    "    temp_df = run_training(j)\n",
    "    dfs.append(temp_df)"
   ]
  },
  {
   "cell_type": "code",
   "execution_count": null,
   "id": "72c931f8",
   "metadata": {},
   "outputs": [],
   "source": [
    "fin_valid_df = pd.concat(dfs)\n",
    "print(fin_valid_df.shape)\n",
    "fin_valid_df.to_csv(\"data/lr_tf.csv\", index=False)"
   ]
  },
  {
   "cell_type": "code",
   "execution_count": null,
   "id": "a0484065",
   "metadata": {},
   "outputs": [],
   "source": [
    "fin_valid_df.head(5)"
   ]
  },
  {
   "cell_type": "markdown",
   "id": "a94de354",
   "metadata": {},
   "source": [
    "All output from rest of the model should like the above output."
   ]
  },
  {
   "cell_type": "markdown",
   "id": "04975e6e",
   "metadata": {},
   "source": [
    "# Model 2: Logistic Regression Model (CountVectorizer)"
   ]
  },
  {
   "cell_type": "code",
   "execution_count": null,
   "id": "58dfe8d3",
   "metadata": {},
   "outputs": [],
   "source": [
    "from sklearn import linear_model, metrics\n",
    "from sklearn.feature_extraction.text import CountVectorizer"
   ]
  },
  {
   "cell_type": "code",
   "execution_count": null,
   "id": "56a7a6cc",
   "metadata": {},
   "outputs": [],
   "source": [
    "def run_training(fold):\n",
    "    df = pd.read_csv(\"data/train_folds.csv\")\n",
    "    df.review = df.review.apply(str)\n",
    "\n",
    "    df_train = df[df.kfold != fold].reset_index(drop=True)\n",
    "    df_valid = df[df.kfold == fold].reset_index(drop=True)\n",
    "\n",
    "    tfv = CountVectorizer()\n",
    "    tfv.fit(df_train.review.values)\n",
    "\n",
    "    xtrain = tfv.transform(df_train.review.values)\n",
    "    xvalid = tfv.transform(df_valid.review.values)\n",
    "\n",
    "    ytrain = df_train.sentiment.values\n",
    "    yvalid = df_valid.sentiment.values\n",
    "\n",
    "    clf = linear_model.LogisticRegression()\n",
    "    clf.fit(xtrain, ytrain)\n",
    "    pred = clf.predict_proba(xvalid)[:, 1]\n",
    "\n",
    "    auc = metrics.roc_auc_score(yvalid, pred)\n",
    "    print(\"fold : %2d, auc : %f\" % (fold, auc))\n",
    "\n",
    "    df_valid.loc[:, \"lr_cnt_pred\"] = pred\n",
    "\n",
    "    #     return df_valid\n",
    "    return df_valid[[\"id\", \"sentiment\", \"kfold\", \"lr_cnt_pred\"]]"
   ]
  },
  {
   "cell_type": "code",
   "execution_count": null,
   "id": "810e487f",
   "metadata": {},
   "outputs": [],
   "source": [
    "dfs = []\n",
    "for j in range(5):\n",
    "    temp_df = run_training(j)\n",
    "    dfs.append(temp_df)"
   ]
  },
  {
   "cell_type": "code",
   "execution_count": null,
   "id": "7fe6e8d0",
   "metadata": {},
   "outputs": [],
   "source": [
    "fin_valid_df = pd.concat(dfs)\n",
    "print(fin_valid_df.shape)\n",
    "fin_valid_df.to_csv(\"data/lr_cnt.csv\", index=False)"
   ]
  },
  {
   "cell_type": "code",
   "execution_count": null,
   "id": "32ac6f72",
   "metadata": {},
   "outputs": [],
   "source": [
    "fin_valid_df.head(5)"
   ]
  },
  {
   "cell_type": "markdown",
   "id": "c1433d5b",
   "metadata": {},
   "source": [
    "# Model 3: RandomForestClassifier"
   ]
  },
  {
   "cell_type": "code",
   "execution_count": null,
   "id": "fd15971e",
   "metadata": {},
   "outputs": [],
   "source": [
    "from sklearn import decomposition, metrics\n",
    "from sklearn.ensemble import RandomForestClassifier\n",
    "from sklearn.feature_extraction.text import TfidfVectorizer"
   ]
  },
  {
   "cell_type": "code",
   "execution_count": null,
   "id": "2713be43",
   "metadata": {},
   "outputs": [],
   "source": [
    "def run_training(fold):\n",
    "    df = pd.read_csv(\"data/train_folds.csv\")\n",
    "    df.review = df.review.apply(str)\n",
    "\n",
    "    df_train = df[df.kfold != fold].reset_index(drop=True)\n",
    "    df_valid = df[df.kfold == fold].reset_index(drop=True)\n",
    "\n",
    "    tfv = TfidfVectorizer()\n",
    "    tfv.fit(df_train.review.values)\n",
    "\n",
    "    xtrain = tfv.transform(df_train.review.values)\n",
    "    xvalid = tfv.transform(df_valid.review.values)\n",
    "\n",
    "    svd = decomposition.TruncatedSVD(n_components=120)\n",
    "    svd.fit(xtrain)\n",
    "\n",
    "    xtrain_svd = svd.transform(xtrain)\n",
    "    xvalid_svd = svd.transform(xvalid)\n",
    "\n",
    "    ytrain = df_train.sentiment.values\n",
    "    yvalid = df_valid.sentiment.values\n",
    "\n",
    "    clf = RandomForestClassifier(n_estimators=100, n_jobs=-1)\n",
    "    clf.fit(xtrain_svd, ytrain)\n",
    "    pred = clf.predict_proba(xvalid_svd)[:, 1]\n",
    "\n",
    "    auc = metrics.roc_auc_score(yvalid, pred)\n",
    "    print(\"fold : %2d, auc : %f\" % (fold, auc))\n",
    "\n",
    "    df_valid.loc[:, \"lr_svd_pred\"] = pred\n",
    "\n",
    "    #     return df_valid\n",
    "    return df_valid[[\"id\", \"sentiment\", \"kfold\", \"lr_svd_pred\"]]"
   ]
  },
  {
   "cell_type": "code",
   "execution_count": null,
   "id": "35af39ae",
   "metadata": {},
   "outputs": [],
   "source": [
    "dfs = []\n",
    "for j in range(5):\n",
    "    temp_df = run_training(j)\n",
    "    dfs.append(temp_df)"
   ]
  },
  {
   "cell_type": "code",
   "execution_count": null,
   "id": "f16ff58a",
   "metadata": {},
   "outputs": [],
   "source": [
    "fin_valid_df = pd.concat(dfs)\n",
    "print(fin_valid_df.shape)\n",
    "fin_valid_df.to_csv(\"data/lr_svd.csv\", index=False)"
   ]
  },
  {
   "cell_type": "markdown",
   "id": "ba9c509c",
   "metadata": {},
   "source": [
    "# Blending"
   ]
  },
  {
   "cell_type": "code",
   "execution_count": null,
   "id": "722455e4",
   "metadata": {},
   "outputs": [],
   "source": [
    "import glob"
   ]
  },
  {
   "cell_type": "code",
   "execution_count": null,
   "id": "f31d39ed",
   "metadata": {},
   "outputs": [],
   "source": [
    "files = glob.glob(\"data/lr*.csv\")"
   ]
  },
  {
   "cell_type": "code",
   "execution_count": null,
   "id": "1e97118c",
   "metadata": {},
   "outputs": [],
   "source": [
    "df = None\n",
    "for f in files:\n",
    "    if df is None:\n",
    "        df = pd.read_csv(f)\n",
    "    else:\n",
    "        temp_df = pd.read_csv(f)\n",
    "        df = df.merge(temp_df, on=\"id\", how=\"left\")\n",
    "\n",
    "print(df.head(10))"
   ]
  },
  {
   "cell_type": "code",
   "execution_count": null,
   "id": "262435a9",
   "metadata": {},
   "outputs": [],
   "source": [
    "pred_cols = [\"lr_tf_pred\", \"lr_svd_pred\", \"lr_cnt_pred\"]"
   ]
  },
  {
   "cell_type": "code",
   "execution_count": null,
   "id": "e740ff12",
   "metadata": {},
   "outputs": [],
   "source": [
    "for col in pred_cols:\n",
    "    auc = metrics.roc_auc_score(df.sentiment.values, df[col].values)\n",
    "    print(\"pred_col=%s, overall_auc=%f\" % (col, auc))"
   ]
  },
  {
   "cell_type": "code",
   "execution_count": null,
   "id": "7593c4e3",
   "metadata": {},
   "outputs": [],
   "source": [
    "import numpy as np"
   ]
  },
  {
   "cell_type": "markdown",
   "id": "69650734",
   "metadata": {},
   "source": [
    "# Applying Average Blending. \n",
    "\n",
    "i.e Taking the Average of all the prediction."
   ]
  },
  {
   "cell_type": "code",
   "execution_count": null,
   "id": "f1284022",
   "metadata": {},
   "outputs": [],
   "source": [
    "print(\"Average\")\n",
    "avg_pred = np.mean(df[[\"lr_tf_pred\", \"lr_svd_pred\", \"lr_cnt_pred\"]].values, axis=1)\n",
    "print(metrics.roc_auc_score(df.sentiment.values, avg_pred))"
   ]
  },
  {
   "cell_type": "markdown",
   "id": "31d043ae",
   "metadata": {},
   "source": [
    "# Applying Weighted Average Blending. \n",
    "\n",
    "i.e Applying weights to some predictions and then taking the Average of all the prediction."
   ]
  },
  {
   "cell_type": "code",
   "execution_count": null,
   "id": "2c08c0b9",
   "metadata": {},
   "outputs": [],
   "source": [
    "lr_tf_pred = df.lr_tf_pred.values\n",
    "lr_svd_pred = df.lr_svd_pred.values\n",
    "lr_cnt_pred = df.lr_cnt_pred.values\n",
    "\n",
    "avg_pred = (3 * lr_tf_pred + lr_cnt_pred + lr_svd_pred) / 5\n",
    "print(\"Weighted Average\")\n",
    "print(metrics.roc_auc_score(df.sentiment.values, avg_pred))"
   ]
  },
  {
   "cell_type": "markdown",
   "id": "33323035",
   "metadata": {},
   "source": [
    "# Applying Rank Average Blending. \n",
    "\n",
    "i.e Average of Rank of all the prediction."
   ]
  },
  {
   "cell_type": "code",
   "execution_count": null,
   "id": "f2f8c99b",
   "metadata": {},
   "outputs": [],
   "source": [
    "lr_tf_pred = df.lr_tf_pred.rank().values\n",
    "lr_svd_pred = df.lr_svd_pred.rank().values\n",
    "lr_cnt_pred = df.lr_cnt_pred.rank().values\n",
    "\n",
    "avg_pred = (lr_tf_pred + lr_cnt_pred + lr_svd_pred) / 3\n",
    "print(\"Rank Average\")\n",
    "print(metrics.roc_auc_score(df.sentiment.values, avg_pred))"
   ]
  },
  {
   "cell_type": "markdown",
   "id": "8f7e7f7f",
   "metadata": {},
   "source": [
    "# Applying Weighted Rank Average Blending. \n",
    "\n",
    "i.e Applying weights to some predictions and then taking the Average of Rank of all the prediction."
   ]
  },
  {
   "cell_type": "code",
   "execution_count": null,
   "id": "e8514544",
   "metadata": {},
   "outputs": [],
   "source": [
    "lr_tf_pred = df.lr_tf_pred.rank().values\n",
    "lr_svd_pred = df.lr_svd_pred.rank().values\n",
    "lr_cnt_pred = df.lr_cnt_pred.rank().values\n",
    "\n",
    "avg_pred = (3 * lr_tf_pred + lr_cnt_pred + lr_svd_pred) / 5\n",
    "print(\"Weighted Rank Average\")\n",
    "print(metrics.roc_auc_score(df.sentiment.values, avg_pred))"
   ]
  },
  {
   "cell_type": "markdown",
   "id": "235e6bb0",
   "metadata": {},
   "source": [
    "Now you can keep changing the weight and check which one is giving the higher accuracy."
   ]
  }
 ],
 "metadata": {
  "kernelspec": {
   "display_name": "Python 3",
   "language": "python",
   "name": "python3"
  },
  "language_info": {
   "codemirror_mode": {
    "name": "ipython",
    "version": 3
   },
   "file_extension": ".py",
   "mimetype": "text/x-python",
   "name": "python",
   "nbconvert_exporter": "python",
   "pygments_lexer": "ipython3",
   "version": "3.5.6"
  }
 },
 "nbformat": 4,
 "nbformat_minor": 5
}
