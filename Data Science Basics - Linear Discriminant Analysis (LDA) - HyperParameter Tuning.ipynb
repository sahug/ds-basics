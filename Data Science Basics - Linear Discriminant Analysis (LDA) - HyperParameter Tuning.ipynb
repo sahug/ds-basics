{
 "cells": [
  {
   "cell_type": "markdown",
   "metadata": {},
   "source": [
    "**Linear Discriminant Analysis** is a linear classification machine learning algorithm.\n",
    "\n",
    "The algorithm involves developing a probabilistic model per class based on the specific distribution of observations for each input variable. A new example is then classified by calculating the conditional probability of it belonging to each class and selecting the class with the highest probability.\n",
    "\n",
    "As such, it is a relatively simple probabilistic classification model that makes strong assumptions about the distribution of each input variable, although it can make effective predictions even when these expectations are violated (e.g. it fails gracefully).\n",
    "\n",
    "In this tutorial, you will discover the Linear Discriminant Analysis classification machine learning algorithm in Python.\n",
    "\n",
    "After completing this tutorial, you will know:\n",
    "\n",
    " - The Linear Discriminant Analysis is a simple linear machine learning algorithm for classification.\n",
    " - How to fit, evaluate, and make predictions with the Linear Discriminant Analysis model with Scikit-Learn.\n",
    " - How to tune the hyperparameters of the Linear Discriminant Analysis algorithm on a given dataset."
   ]
  },
  {
   "cell_type": "markdown",
   "metadata": {},
   "source": [
    "**Linear Discriminant Analysis With scikit-learn**"
   ]
  },
  {
   "cell_type": "code",
   "execution_count": null,
   "metadata": {},
   "outputs": [],
   "source": [
    "# evaluate a lda model on the dataset\n",
    "from numpy import mean, std\n",
    "from sklearn.datasets import make_classification\n",
    "from sklearn.discriminant_analysis import LinearDiscriminantAnalysis\n",
    "from sklearn.model_selection import RepeatedStratifiedKFold, cross_val_score\n",
    "\n",
    "# define dataset\n",
    "X, y = make_classification(\n",
    "    n_samples=1000, n_features=10, n_informative=10, n_redundant=0, random_state=1\n",
    ")\n",
    "\n",
    "# define model\n",
    "model = LinearDiscriminantAnalysis()\n",
    "\n",
    "# define model evaluation method\n",
    "cv = RepeatedStratifiedKFold(n_splits=10, n_repeats=3, random_state=1)\n",
    "\n",
    "# evaluate model\n",
    "scores = cross_val_score(model, X, y, scoring=\"accuracy\", cv=cv, n_jobs=-1)\n",
    "\n",
    "# summarize result\n",
    "print(\"Mean Accuracy: %.3f (%.3f)\" % (mean(scores), std(scores)))"
   ]
  },
  {
   "cell_type": "code",
   "execution_count": null,
   "metadata": {},
   "outputs": [],
   "source": [
    "# make a prediction with a lda model on the dataset\n",
    "from sklearn.datasets import make_classification\n",
    "from sklearn.discriminant_analysis import LinearDiscriminantAnalysis\n",
    "\n",
    "# define dataset\n",
    "X, y = make_classification(\n",
    "    n_samples=1000, n_features=10, n_informative=10, n_redundant=0, random_state=1\n",
    ")\n",
    "\n",
    "# define model\n",
    "model = LinearDiscriminantAnalysis()\n",
    "\n",
    "# fit model\n",
    "model.fit(X, y)\n",
    "\n",
    "# define new data\n",
    "row = [\n",
    "    0.12777556,\n",
    "    -3.64400522,\n",
    "    -2.23268854,\n",
    "    -1.82114386,\n",
    "    1.75466361,\n",
    "    0.1243966,\n",
    "    1.03397657,\n",
    "    2.35822076,\n",
    "    1.01001752,\n",
    "    0.56768485,\n",
    "]\n",
    "\n",
    "# make a prediction\n",
    "yhat = model.predict([row])\n",
    "\n",
    "# summarize prediction\n",
    "print(\"Predicted Class: %d\" % yhat)"
   ]
  },
  {
   "cell_type": "markdown",
   "metadata": {},
   "source": [
    "### Tune LDA Hyperparameters"
   ]
  },
  {
   "cell_type": "markdown",
   "metadata": {},
   "source": [
    "1) Tune Solver"
   ]
  },
  {
   "cell_type": "code",
   "execution_count": null,
   "metadata": {},
   "outputs": [],
   "source": [
    "# grid search solver for lda\n",
    "from sklearn.datasets import make_classification\n",
    "from sklearn.discriminant_analysis import LinearDiscriminantAnalysis\n",
    "from sklearn.model_selection import GridSearchCV, RepeatedStratifiedKFold\n",
    "\n",
    "# define dataset\n",
    "X, y = make_classification(\n",
    "    n_samples=1000, n_features=10, n_informative=10, n_redundant=0, random_state=1\n",
    ")\n",
    "\n",
    "# define model\n",
    "model = LinearDiscriminantAnalysis()\n",
    "\n",
    "# define model evaluation method\n",
    "cv = RepeatedStratifiedKFold(n_splits=10, n_repeats=3, random_state=1)\n",
    "\n",
    "# define grid\n",
    "grid = dict()\n",
    "grid[\"solver\"] = [\"svd\", \"lsqr\", \"eigen\"]\n",
    "\n",
    "# define search\n",
    "search = GridSearchCV(model, grid, scoring=\"accuracy\", cv=cv, n_jobs=-1)\n",
    "\n",
    "# perform the search\n",
    "results = search.fit(X, y)\n",
    "\n",
    "# summarize\n",
    "print(\"Mean Accuracy: %.3f\" % results.best_score_)\n",
    "print(\"Config: %s\" % results.best_params_)"
   ]
  },
  {
   "cell_type": "markdown",
   "metadata": {},
   "source": [
    "2) Tune Shrinkage"
   ]
  },
  {
   "cell_type": "code",
   "execution_count": null,
   "metadata": {},
   "outputs": [],
   "source": [
    "# grid search shrinkage for lda\n",
    "from numpy import arange\n",
    "from sklearn.datasets import make_classification\n",
    "from sklearn.discriminant_analysis import LinearDiscriminantAnalysis\n",
    "from sklearn.model_selection import GridSearchCV, RepeatedStratifiedKFold\n",
    "\n",
    "# define dataset\n",
    "X, y = make_classification(\n",
    "    n_samples=1000, n_features=10, n_informative=10, n_redundant=0, random_state=1\n",
    ")\n",
    "\n",
    "# define model\n",
    "model = LinearDiscriminantAnalysis(solver=\"lsqr\")\n",
    "\n",
    "# define model evaluation method\n",
    "cv = RepeatedStratifiedKFold(n_splits=10, n_repeats=3, random_state=1)\n",
    "\n",
    "# define grid\n",
    "grid = dict()\n",
    "grid[\"shrinkage\"] = arange(0, 1, 0.01)\n",
    "\n",
    "# define search\n",
    "search = GridSearchCV(model, grid, scoring=\"accuracy\", cv=cv, n_jobs=-1)\n",
    "\n",
    "# perform the search\n",
    "results = search.fit(X, y)\n",
    "\n",
    "# summarize\n",
    "print(\"Mean Accuracy: %.3f\" % results.best_score_)\n",
    "print(\"Config: %s\" % results.best_params_)"
   ]
  }
 ],
 "metadata": {
  "kernelspec": {
   "display_name": "Python 3",
   "language": "python",
   "name": "python3"
  },
  "language_info": {
   "codemirror_mode": {
    "name": "ipython",
    "version": 3
   },
   "file_extension": ".py",
   "mimetype": "text/x-python",
   "name": "python",
   "nbconvert_exporter": "python",
   "pygments_lexer": "ipython3",
   "version": "3.5.6"
  }
 },
 "nbformat": 4,
 "nbformat_minor": 4
}
