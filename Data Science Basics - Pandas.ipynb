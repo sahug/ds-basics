{
 "cells": [
  {
   "cell_type": "markdown",
   "metadata": {},
   "source": [
    "# Data Science Basics - Pandas"
   ]
  },
  {
   "cell_type": "code",
   "execution_count": null,
   "metadata": {},
   "outputs": [],
   "source": [
    "import pandas as pd"
   ]
  },
  {
   "cell_type": "markdown",
   "metadata": {},
   "source": [
    "## Loading Data"
   ]
  },
  {
   "cell_type": "code",
   "execution_count": null,
   "metadata": {},
   "outputs": [],
   "source": [
    "df = pd.read_csv(\"data/pokemon.csv\")"
   ]
  },
  {
   "cell_type": "code",
   "execution_count": null,
   "metadata": {},
   "outputs": [],
   "source": [
    "# Print top 5 rows\n",
    "df.head(5)"
   ]
  },
  {
   "cell_type": "code",
   "execution_count": null,
   "metadata": {},
   "outputs": [],
   "source": [
    "# Print column names\n",
    "df.columns"
   ]
  },
  {
   "cell_type": "code",
   "execution_count": null,
   "metadata": {},
   "outputs": [],
   "source": [
    "# Read specific column\n",
    "print(df[\"Name\"])\n",
    "\n",
    "# Read specific column in a range\n",
    "print(df[\"Name\"][0:5])"
   ]
  },
  {
   "cell_type": "code",
   "execution_count": null,
   "metadata": {},
   "outputs": [],
   "source": [
    "# Read specific multiple columns\n",
    "print(df[[\"Name\", \"Type 1\", \"Type 2\"]])\n",
    "\n",
    "# Read specific multiple columns in a range\n",
    "print(df[[\"Name\", \"Type 1\", \"Type 2\"]][0:5])"
   ]
  },
  {
   "cell_type": "code",
   "execution_count": null,
   "metadata": {},
   "outputs": [],
   "source": [
    "# Get specific row\n",
    "print(df.iloc[1])\n",
    "\n",
    "# Get specific rows in range\n",
    "print(df.iloc[1:4])"
   ]
  },
  {
   "cell_type": "code",
   "execution_count": null,
   "metadata": {},
   "outputs": [],
   "source": [
    "# Get specific location\n",
    "print(df.iloc[2, 1])"
   ]
  },
  {
   "cell_type": "code",
   "execution_count": null,
   "metadata": {},
   "outputs": [],
   "source": [
    "# Iteration\n",
    "for index, row in df.iterrows():\n",
    "    print(index, row)"
   ]
  },
  {
   "cell_type": "code",
   "execution_count": null,
   "metadata": {},
   "outputs": [],
   "source": [
    "# Iteration specific column\n",
    "for index, row in df.iterrows():\n",
    "    print(index, row[\"Name\"])"
   ]
  },
  {
   "cell_type": "code",
   "execution_count": null,
   "metadata": {},
   "outputs": [],
   "source": [
    "# Locating elements by value\n",
    "df.loc[df[\"Type 1\"] == \"Fire\"]"
   ]
  },
  {
   "cell_type": "markdown",
   "metadata": {},
   "source": [
    "## Sorting/Describing"
   ]
  },
  {
   "cell_type": "code",
   "execution_count": null,
   "metadata": {},
   "outputs": [],
   "source": [
    "# Describe to get statistics information of the dataset\n",
    "df.describe()"
   ]
  },
  {
   "cell_type": "code",
   "execution_count": null,
   "metadata": {},
   "outputs": [],
   "source": [
    "# Sort ascending by values\n",
    "df.sort_values(\"Name\")"
   ]
  },
  {
   "cell_type": "code",
   "execution_count": null,
   "metadata": {},
   "outputs": [],
   "source": [
    "# Sort descending by values\n",
    "df.sort_values(\"Name\", ascending=False)"
   ]
  },
  {
   "cell_type": "code",
   "execution_count": null,
   "metadata": {},
   "outputs": [],
   "source": [
    "# Sort descending by multiple values\n",
    "df.sort_values([\"Type 1\", \"HP\"], ascending=False)"
   ]
  },
  {
   "cell_type": "code",
   "execution_count": null,
   "metadata": {},
   "outputs": [],
   "source": [
    "# Sort descending by multiple values and different order\n",
    "df.sort_values([\"Type 1\", \"HP\"], ascending=[1, 0])"
   ]
  },
  {
   "cell_type": "markdown",
   "metadata": {},
   "source": [
    "## Making changes to the data"
   ]
  },
  {
   "cell_type": "code",
   "execution_count": null,
   "metadata": {},
   "outputs": [],
   "source": [
    "# Easiest but not the fastest\n",
    "df[\"Total\"] = (\n",
    "    df[\"HP\"]\n",
    "    + df[\"Attack\"]\n",
    "    + df[\"Defense\"]\n",
    "    + df[\"Sp. Atk\"]\n",
    "    + df[\"Sp. Def\"]\n",
    "    + df[\"Speed\"]\n",
    ")\n",
    "df.head(5)"
   ]
  },
  {
   "cell_type": "code",
   "execution_count": null,
   "metadata": {},
   "outputs": [],
   "source": [
    "# Drop a column\n",
    "df = df.drop(columns=[\"Total\"])\n",
    "df.head(5)"
   ]
  },
  {
   "cell_type": "code",
   "execution_count": null,
   "metadata": {},
   "outputs": [],
   "source": [
    "# Other way of manipulating dataset. Axis 1 = Horizontally, Axis 0 = Vertically.\n",
    "df[\"Total\"] = df.iloc[:, 4:10].sum(axis=1)\n",
    "df.head(5)"
   ]
  },
  {
   "cell_type": "code",
   "execution_count": null,
   "metadata": {},
   "outputs": [],
   "source": [
    "# Rearranging the dataset\n",
    "# df = df[[\"Name\", \"Type 1\", \"Type 2\"]] - Using this will rearrange the dataset as mentioned.\n",
    "\n",
    "# Better way of rearranging it\n",
    "cols = list(df.columns.values)\n",
    "df = df[cols[0:4] + [cols[-1]] + cols[4:12]]\n",
    "df.head(5)"
   ]
  },
  {
   "cell_type": "markdown",
   "metadata": {},
   "source": [
    "## Saving data"
   ]
  },
  {
   "cell_type": "code",
   "execution_count": null,
   "metadata": {},
   "outputs": [],
   "source": [
    "## Saving the data with index\n",
    "df.to_csv(\"data/modified_pokemon.csv\")"
   ]
  },
  {
   "cell_type": "code",
   "execution_count": null,
   "metadata": {},
   "outputs": [],
   "source": [
    "## Saving the data without index\n",
    "df.to_csv(\"data/modified_pokemon.csv\", index=False)"
   ]
  },
  {
   "cell_type": "code",
   "execution_count": null,
   "metadata": {},
   "outputs": [],
   "source": [
    "## Saving the data using different seperator\n",
    "df.to_csv(\"data/modified_pokemon.csv\", index=False, sep=\"\\t\")"
   ]
  },
  {
   "cell_type": "code",
   "execution_count": null,
   "metadata": {},
   "outputs": [],
   "source": [
    "# Saving in excel format\n",
    "df.to_excel(\"data/modified_pokemon.xlsx\", index=False)"
   ]
  },
  {
   "cell_type": "markdown",
   "metadata": {},
   "source": [
    "## Filtering Data"
   ]
  },
  {
   "cell_type": "code",
   "execution_count": null,
   "metadata": {},
   "outputs": [],
   "source": [
    "# Single condition\n",
    "df.loc[df[\"Type 1\"] == \"Grass\"]\n",
    "df.head(5)"
   ]
  },
  {
   "cell_type": "code",
   "execution_count": null,
   "metadata": {},
   "outputs": [],
   "source": [
    "# Multiple condition (and &)\n",
    "df.loc[(df[\"Type 1\"] == \"Grass\") & (df[\"Type 2\"] == \"Poison\")]\n",
    "df.head(5)"
   ]
  },
  {
   "cell_type": "code",
   "execution_count": null,
   "metadata": {},
   "outputs": [],
   "source": [
    "# Multiple condition (or |)\n",
    "df.loc[(df[\"Type 1\"] == \"Grass\") | (df[\"Type 2\"] == \"Poison\")]\n",
    "df.head(5)"
   ]
  },
  {
   "cell_type": "code",
   "execution_count": null,
   "metadata": {},
   "outputs": [],
   "source": [
    "# Saving and Reindexing\n",
    "new_df = df.loc[(df[\"Type 1\"] == \"Grass\") | (df[\"Type 2\"] == \"Poison\")]\n",
    "new_df = new_df.reset_index()\n",
    "new_df.head(5)"
   ]
  },
  {
   "cell_type": "code",
   "execution_count": null,
   "metadata": {},
   "outputs": [],
   "source": [
    "# Dropping the index. This will give error.\n",
    "new_df = new_df.reset_index(drop=True, inplace=True)\n",
    "new_df.head(5)"
   ]
  },
  {
   "cell_type": "code",
   "execution_count": null,
   "metadata": {},
   "outputs": [],
   "source": [
    "# Filter using contain\n",
    "a = df.loc[df[\"Name\"].str.contains(\"Mega\")]\n",
    "a.head(5)"
   ]
  },
  {
   "cell_type": "code",
   "execution_count": null,
   "metadata": {},
   "outputs": [],
   "source": [
    "# Filter using contain\n",
    "b = df.loc[~df[\"Name\"].str.contains(\"Mega\")]\n",
    "b.head(5)"
   ]
  },
  {
   "cell_type": "code",
   "execution_count": null,
   "metadata": {},
   "outputs": [],
   "source": [
    "# Filter using Regex\n",
    "import re\n",
    "\n",
    "c = df.loc[df[\"Type 1\"].str.contains(\"Fire|Grass\", regex=True)]\n",
    "c.head(5)"
   ]
  },
  {
   "cell_type": "code",
   "execution_count": null,
   "metadata": {},
   "outputs": [],
   "source": [
    "# Filter using Regex and Ignoring Case\n",
    "import re\n",
    "\n",
    "d = df.loc[df[\"Type 1\"].str.contains(\"fire|grass\", flags=re.I, regex=True)]\n",
    "d.head(5)"
   ]
  },
  {
   "cell_type": "code",
   "execution_count": null,
   "metadata": {},
   "outputs": [],
   "source": [
    "import re\n",
    "\n",
    "e = df.loc[df[\"Name\"].str.contains(\"^pi[a-z]\", flags=re.I, regex=True)]\n",
    "e.head(5)"
   ]
  },
  {
   "cell_type": "markdown",
   "metadata": {},
   "source": [
    "## Conditional Updates"
   ]
  },
  {
   "cell_type": "code",
   "execution_count": null,
   "metadata": {},
   "outputs": [],
   "source": [
    "# Single column example. Modifying \"Type 1\" based on condition.\n",
    "df.loc[df[\"Type 1\"] == \"Fire\", \"Type 1\"] = \"Flamer\"\n",
    "df"
   ]
  },
  {
   "cell_type": "code",
   "execution_count": null,
   "metadata": {},
   "outputs": [],
   "source": [
    "# Multiple column example. Modifying \"Generation\" and \"Legendary\" based on condition.\n",
    "df.loc[df[\"Total\"] > 500, [\"Generation\", \"Legendary\"]] = \"Dummy Value\"\n",
    "df"
   ]
  },
  {
   "cell_type": "code",
   "execution_count": null,
   "metadata": {},
   "outputs": [],
   "source": [
    "# Multiple column example. Modifying \"Generation\" and \"Legendary\" based on condition to different values.\n",
    "df.loc[df[\"Total\"] > 500, [\"Generation\", \"Legendary\"]] = [\n",
    "    \"Dummy Value 1\",\n",
    "    \"Dummy Value 2\",\n",
    "]\n",
    "df"
   ]
  },
  {
   "cell_type": "markdown",
   "metadata": {},
   "source": [
    "## Average Statistics"
   ]
  },
  {
   "cell_type": "code",
   "execution_count": null,
   "metadata": {},
   "outputs": [],
   "source": [
    "# Single grouping\n",
    "df.groupby([\"Type 1\"]).mean()"
   ]
  },
  {
   "cell_type": "code",
   "execution_count": null,
   "metadata": {},
   "outputs": [],
   "source": [
    "df.groupby([\"Type 1\"]).mean().sort_values(\"Defense\", ascending=False)"
   ]
  },
  {
   "cell_type": "code",
   "execution_count": null,
   "metadata": {},
   "outputs": [],
   "source": [
    "# Multiple grouping\n",
    "df.groupby([\"Type 1\", \"Type 2\"]).count()"
   ]
  },
  {
   "cell_type": "markdown",
   "metadata": {},
   "source": [
    "## Working with big dataset"
   ]
  },
  {
   "cell_type": "code",
   "execution_count": null,
   "metadata": {},
   "outputs": [],
   "source": [
    "# Reading in chunks\n",
    "for df in pd.read_csv(\"data/pokemon.csv\", chunksize=5):\n",
    "    print(\"CHUNK DF\")\n",
    "    print(df)"
   ]
  },
  {
   "cell_type": "code",
   "execution_count": null,
   "metadata": {},
   "outputs": [],
   "source": [
    "# Creating new data frame\n",
    "new_df = pd.DataFrame(columns=df.columns)\n",
    "new_df"
   ]
  },
  {
   "cell_type": "code",
   "execution_count": null,
   "metadata": {},
   "outputs": [],
   "source": [
    "for df in pd.read_csv(\"data/pokemon.csv\", chunksize=5):\n",
    "    results = df.groupby([\"Type 1\"]).count()\n",
    "    new_df = pd.concat([new_df, results])\n",
    "\n",
    "new_df"
   ]
  }
 ],
 "metadata": {
  "kernelspec": {
   "display_name": "Python 3",
   "language": "python",
   "name": "python3"
  },
  "language_info": {
   "codemirror_mode": {
    "name": "ipython",
    "version": 3
   },
   "file_extension": ".py",
   "mimetype": "text/x-python",
   "name": "python",
   "nbconvert_exporter": "python",
   "pygments_lexer": "ipython3",
   "version": "3.8.3"
  }
 },
 "nbformat": 4,
 "nbformat_minor": 4
}
