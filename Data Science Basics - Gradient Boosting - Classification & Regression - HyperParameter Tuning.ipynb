{
 "cells": [
  {
   "cell_type": "markdown",
   "metadata": {},
   "source": [
    "### Gradient Boosting Machines Algorithm\n",
    "Gradient boosting refers to a class of ensemble machine learning algorithms that can be used for classification or regression predictive modeling problems.\n",
    "\n",
    "Gradient boosting is also known as gradient tree boosting, stochastic gradient boosting (an extension), and gradient boosting machines, or GBM for short.\n",
    "\n",
    "Ensembles are constructed from decision tree models. Trees are added one at a time to the ensemble and fit to correct the prediction errors made by prior models. This is a type of ensemble machine learning model referred to as boosting.\n",
    "\n",
    "Models are fit using any arbitrary differentiable loss function and gradient descent optimization algorithm. This gives the technique its name, “gradient boosting,” as the loss gradient is minimized as the model is fit, much like a neural network.\n",
    "\n",
    "One way to produce a weighted combination of classifiers which optimizes [the cost] is by gradient descent in function space\n",
    "\n",
    "— Boosting Algorithms as Gradient Descent in Function Space, 1999.\n",
    "\n",
    "Naive gradient boosting is a greedy algorithm and can overfit the training dataset quickly.\n",
    "\n",
    "It can benefit from regularization methods that penalize various parts of the algorithm and generally improve the performance of the algorithm by reducing overfitting.\n",
    "\n",
    "There are three types of enhancements to basic gradient boosting that can improve performance:\n",
    "\n",
    " - Tree Constraints: such as the depth of the trees and the number of trees used in the ensemble.\n",
    " - Weighted Updates: such as a learning rate used to limit how much each tree contributes to the ensemble.\n",
    " - Random sampling: such as fitting trees on random subsets of features and samples.\n",
    " \n",
    "The use of random sampling often leads to a change in the name of the algorithm to “stochastic gradient boosting.”"
   ]
  },
  {
   "cell_type": "markdown",
   "metadata": {},
   "source": [
    "### Gradient Boosting Scikit-Learn API"
   ]
  },
  {
   "cell_type": "code",
   "execution_count": 1,
   "metadata": {},
   "outputs": [
    {
     "name": "stdout",
     "output_type": "stream",
     "text": [
      "0.20.0\n"
     ]
    }
   ],
   "source": [
    "import sklearn\n",
    "print(sklearn.__version__)"
   ]
  },
  {
   "cell_type": "markdown",
   "metadata": {},
   "source": [
    "### Gradient Boosting for Classification"
   ]
  },
  {
   "cell_type": "code",
   "execution_count": 2,
   "metadata": {},
   "outputs": [
    {
     "name": "stdout",
     "output_type": "stream",
     "text": [
      "(1000, 20) (1000,)\n"
     ]
    }
   ],
   "source": [
    "# test classification dataset\n",
    "from sklearn.datasets import make_classification\n",
    "# define dataset\n",
    "X, y = make_classification(n_samples=1000, n_features=20, n_informative=15, n_redundant=5, random_state=7)\n",
    "# summarize the dataset\n",
    "print(X.shape, y.shape)"
   ]
  },
  {
   "cell_type": "code",
   "execution_count": 3,
   "metadata": {},
   "outputs": [
    {
     "name": "stdout",
     "output_type": "stream",
     "text": [
      "Mean Accuracy: 0.898 (0.025)\n"
     ]
    }
   ],
   "source": [
    "# evaluate gradient boosting algorithm for classification\n",
    "from numpy import mean\n",
    "from numpy import std\n",
    "from sklearn.datasets import make_classification\n",
    "from sklearn.model_selection import cross_val_score\n",
    "from sklearn.model_selection import RepeatedStratifiedKFold\n",
    "from sklearn.ensemble import GradientBoostingClassifier\n",
    "\n",
    "# define dataset\n",
    "X, y = make_classification(n_samples=1000, n_features=20, n_informative=15, n_redundant=5, random_state=7)\n",
    "\n",
    "# define the model\n",
    "model = GradientBoostingClassifier()\n",
    "\n",
    "# define the evaluation method\n",
    "cv = RepeatedStratifiedKFold(n_splits=10, n_repeats=3, random_state=1)\n",
    "\n",
    "# evaluate the model on the dataset\n",
    "n_scores = cross_val_score(model, X, y, scoring='accuracy', cv=cv, n_jobs=-1)\n",
    "\n",
    "# report performance\n",
    "print('Mean Accuracy: %.3f (%.3f)' % (mean(n_scores), std(n_scores)))"
   ]
  },
  {
   "cell_type": "code",
   "execution_count": 4,
   "metadata": {},
   "outputs": [
    {
     "name": "stdout",
     "output_type": "stream",
     "text": [
      "Predicted Class: 1\n"
     ]
    }
   ],
   "source": [
    "# make predictions using gradient boosting for classification\n",
    "from sklearn.datasets import make_classification\n",
    "from sklearn.ensemble import GradientBoostingClassifier\n",
    "\n",
    "# define dataset\n",
    "X, y = make_classification(n_samples=1000, n_features=20, n_informative=15, n_redundant=5, random_state=7)\n",
    "\n",
    "# define the model\n",
    "model = GradientBoostingClassifier()\n",
    "\n",
    "# fit the model on the whole dataset\n",
    "model.fit(X, y)\n",
    "\n",
    "# make a single prediction\n",
    "row = [0.2929949, -4.21223056, -1.288332, -2.17849815, -0.64527665, 2.58097719, 0.28422388, -7.1827928, -1.91211104, 2.73729512, 0.81395695, 3.96973717, -2.66939799, 3.34692332, 4.19791821, 0.99990998, -0.30201875, -4.43170633, -2.82646737, 0.44916808]\n",
    "yhat = model.predict([row])\n",
    "\n",
    "# summarize prediction\n",
    "print('Predicted Class: %d' % yhat[0])"
   ]
  },
  {
   "cell_type": "markdown",
   "metadata": {},
   "source": [
    "### Gradient Boosting for Regression"
   ]
  },
  {
   "cell_type": "code",
   "execution_count": 5,
   "metadata": {},
   "outputs": [
    {
     "name": "stdout",
     "output_type": "stream",
     "text": [
      "(1000, 20) (1000,)\n"
     ]
    }
   ],
   "source": [
    "# test regression dataset\n",
    "from sklearn.datasets import make_regression\n",
    "\n",
    "# define dataset\n",
    "X, y = make_regression(n_samples=1000, n_features=20, n_informative=15, noise=0.1, random_state=7)\n",
    "\n",
    "# summarize the dataset\n",
    "print(X.shape, y.shape)"
   ]
  },
  {
   "cell_type": "code",
   "execution_count": 6,
   "metadata": {},
   "outputs": [
    {
     "name": "stdout",
     "output_type": "stream",
     "text": [
      "MAE: -62.487 (3.273)\n"
     ]
    }
   ],
   "source": [
    "# evaluate gradient boosting ensemble for regression\n",
    "from numpy import mean\n",
    "from numpy import std\n",
    "from sklearn.datasets import make_regression\n",
    "from sklearn.model_selection import cross_val_score\n",
    "from sklearn.model_selection import RepeatedKFold\n",
    "from sklearn.ensemble import GradientBoostingRegressor\n",
    "\n",
    "# define dataset\n",
    "X, y = make_regression(n_samples=1000, n_features=20, n_informative=15, noise=0.1, random_state=7)\n",
    "\n",
    "# define the model\n",
    "model = GradientBoostingRegressor()\n",
    "\n",
    "# define the evaluation procedure\n",
    "cv = RepeatedKFold(n_splits=10, n_repeats=3, random_state=1)\n",
    "\n",
    "# evaluate the model\n",
    "n_scores = cross_val_score(model, X, y, scoring='neg_mean_absolute_error', cv=cv, n_jobs=-1)\n",
    "\n",
    "# report performance\n",
    "print('MAE: %.3f (%.3f)' % (mean(n_scores), std(n_scores)))"
   ]
  },
  {
   "cell_type": "code",
   "execution_count": 7,
   "metadata": {},
   "outputs": [
    {
     "name": "stdout",
     "output_type": "stream",
     "text": [
      "Prediction: 37\n"
     ]
    }
   ],
   "source": [
    "# gradient boosting ensemble for making predictions for regression\n",
    "from sklearn.datasets import make_regression\n",
    "from sklearn.ensemble import GradientBoostingRegressor\n",
    "\n",
    "# define dataset\n",
    "X, y = make_regression(n_samples=1000, n_features=20, n_informative=15, noise=0.1, random_state=7)\n",
    "\n",
    "# define the model\n",
    "model = GradientBoostingRegressor()\n",
    "\n",
    "# fit the model on the whole dataset\n",
    "model.fit(X, y)\n",
    "\n",
    "# make a single prediction\n",
    "row = [0.20543991, -0.97049844, -0.81403429, -0.23842689, -0.60704084, -0.48541492, 0.53113006, 2.01834338, -0.90745243, -1.85859731, -1.02334791, -0.6877744, 0.60984819, -0.70630121, -1.29161497, 1.32385441, 1.42150747, 1.26567231, 2.56569098, -0.11154792]\n",
    "yhat = model.predict([row])\n",
    "\n",
    "# summarize prediction\n",
    "print('Prediction: %d' % yhat[0])"
   ]
  },
  {
   "cell_type": "markdown",
   "metadata": {},
   "source": [
    "### Gradient Boosting Hyperparameters"
   ]
  },
  {
   "cell_type": "markdown",
   "metadata": {},
   "source": [
    "#### Explore Number of Trees"
   ]
  },
  {
   "cell_type": "code",
   "execution_count": 8,
   "metadata": {},
   "outputs": [
    {
     "name": "stdout",
     "output_type": "stream",
     "text": [
      ">10 0.834 (0.035)\n",
      ">5000 0.925 (0.022)\n",
      ">500 0.921 (0.022)\n",
      ">1000 0.924 (0.021)\n",
      ">100 0.897 (0.025)\n",
      ">50 0.877 (0.032)\n"
     ]
    },
    {
     "data": {
      "text/plain": [
       "<Figure size 640x480 with 1 Axes>"
      ]
     },
     "metadata": {},
     "output_type": "display_data"
    }
   ],
   "source": [
    "# explore gradient boosting number of trees effect on performance\n",
    "from numpy import mean\n",
    "from numpy import std\n",
    "from sklearn.datasets import make_classification\n",
    "from sklearn.model_selection import cross_val_score\n",
    "from sklearn.model_selection import RepeatedStratifiedKFold\n",
    "from sklearn.ensemble import GradientBoostingClassifier\n",
    "from matplotlib import pyplot\n",
    "% matplotlib inline\n",
    "\n",
    "# get the dataset\n",
    "def get_dataset():\n",
    "    X, y = make_classification(n_samples=1000, n_features=20, n_informative=15, n_redundant=5, random_state=7)\n",
    "    return X, y\n",
    "\n",
    "# get a list of models to evaluate\n",
    "def get_models():\n",
    "    models = dict()\n",
    "    # define number of trees to consider\n",
    "    n_trees = [10, 50, 100, 500, 1000, 5000]\n",
    "    for n in n_trees:\n",
    "        models[str(n)] = GradientBoostingClassifier(n_estimators=n)\n",
    "    return models\n",
    "\n",
    "# evaluate a given model using cross-validation\n",
    "def evaluate_model(model, X, y):\n",
    "    # define the evaluation procedure\n",
    "    cv = RepeatedStratifiedKFold(n_splits=10, n_repeats=3, random_state=1)\n",
    "    # evaluate the model and collect the results\n",
    "    scores = cross_val_score(model, X, y, scoring='accuracy', cv=cv, n_jobs=-1)\n",
    "    return scores\n",
    "\n",
    "# define dataset\n",
    "X, y = get_dataset()\n",
    "\n",
    "# get the models to evaluate\n",
    "models = get_models()\n",
    "\n",
    "# evaluate the models and store results\n",
    "results, names = list(), list()\n",
    "for name, model in models.items():\n",
    "    # evaluate the model\n",
    "    scores = evaluate_model(model, X, y)\n",
    "    # store the results\n",
    "    results.append(scores)\n",
    "    names.append(name)\n",
    "    # summarize the performance along the way\n",
    "    print('>%s %.3f (%.3f)' % (name, mean(scores), std(scores)))\n",
    "\n",
    "# plot model performance for comparison\n",
    "pyplot.boxplot(results, labels=names, showmeans=True)\n",
    "pyplot.show()"
   ]
  },
  {
   "cell_type": "markdown",
   "metadata": {},
   "source": [
    "#### Explore Number of Samples"
   ]
  },
  {
   "cell_type": "code",
   "execution_count": 9,
   "metadata": {},
   "outputs": [
    {
     "name": "stdout",
     "output_type": "stream",
     "text": [
      ">0.9 0.903 (0.029)\n",
      ">1.0 0.898 (0.025)\n",
      ">0.3 0.897 (0.033)\n",
      ">0.5 0.905 (0.027)\n",
      ">0.1 0.873 (0.024)\n",
      ">0.7 0.901 (0.029)\n",
      ">0.4 0.899 (0.027)\n",
      ">0.6 0.908 (0.024)\n",
      ">0.2 0.894 (0.029)\n",
      ">0.8 0.906 (0.031)\n"
     ]
    },
    {
     "data": {
      "image/png": "[encoded data removed]",
      "text/plain": [
       "<Figure size 432x288 with 1 Axes>"
      ]
     },
     "metadata": {
      "needs_background": "light"
     },
     "output_type": "display_data"
    }
   ],
   "source": [
    "# explore gradient boosting ensemble number of samples effect on performance\n",
    "from numpy import mean\n",
    "from numpy import std\n",
    "from numpy import arange\n",
    "from sklearn.datasets import make_classification\n",
    "from sklearn.model_selection import cross_val_score\n",
    "from sklearn.model_selection import RepeatedStratifiedKFold\n",
    "from sklearn.ensemble import GradientBoostingClassifier\n",
    "from matplotlib import pyplot\n",
    "% matplotlib inline\n",
    "\n",
    "# get the dataset\n",
    "def get_dataset():\n",
    "    X, y = make_classification(n_samples=1000, n_features=20, n_informative=15, n_redundant=5, random_state=7)\n",
    "    return X, y\n",
    "\n",
    "# get a list of models to evaluate\n",
    "def get_models():\n",
    "    models = dict()\n",
    "    \n",
    "    # explore sample ratio from 10% to 100% in 10% increments\n",
    "    for i in arange(0.1, 1.1, 0.1):\n",
    "        key = '%.1f' % i\n",
    "        models[key] = GradientBoostingClassifier(subsample=i)\n",
    "        \n",
    "    return models\n",
    "\n",
    "# evaluate a given model using cross-validation\n",
    "def evaluate_model(model, X, y):\n",
    "    \n",
    "    # define the evaluation procedure\n",
    "    cv = RepeatedStratifiedKFold(n_splits=10, n_repeats=3, random_state=1)\n",
    "    \n",
    "    # evaluate the model and collect the results\n",
    "    scores = cross_val_score(model, X, y, scoring='accuracy', cv=cv, n_jobs=-1)\n",
    "    \n",
    "    return scores\n",
    "\n",
    "# define dataset\n",
    "X, y = get_dataset()\n",
    "\n",
    "# get the models to evaluate\n",
    "models = get_models()\n",
    "\n",
    "# evaluate the models and store results\n",
    "results, names = list(), list()\n",
    "for name, model in models.items():\n",
    "    \n",
    "    # evaluate the model\n",
    "    scores = evaluate_model(model, X, y)\n",
    "    \n",
    "    # store the results\n",
    "    results.append(scores)\n",
    "    names.append(name)\n",
    "    \n",
    "    # summarize the performance along the way\n",
    "    print('>%s %.3f (%.3f)' % (name, mean(scores), std(scores)))\n",
    "    \n",
    "# plot model performance for comparison\n",
    "pyplot.boxplot(results, labels=names, showmeans=True)\n",
    "pyplot.show()"
   ]
  },
  {
   "cell_type": "markdown",
   "metadata": {},
   "source": [
    "#### Explore Number of Features"
   ]
  },
  {
   "cell_type": "code",
   "execution_count": 10,
   "metadata": {},
   "outputs": [
    {
     "name": "stdout",
     "output_type": "stream",
     "text": [
      ">3 0.896 (0.028)\n",
      ">12 0.895 (0.029)\n",
      ">2 0.884 (0.034)\n",
      ">5 0.896 (0.029)\n",
      ">13 0.898 (0.023)\n",
      ">15 0.901 (0.030)\n",
      ">7 0.897 (0.031)\n",
      ">11 0.898 (0.029)\n",
      ">9 0.901 (0.028)\n",
      ">6 0.894 (0.028)\n",
      ">20 0.900 (0.025)\n",
      ">8 0.899 (0.028)\n",
      ">10 0.896 (0.026)\n",
      ">4 0.892 (0.029)\n",
      ">19 0.898 (0.028)\n",
      ">16 0.897 (0.029)\n",
      ">1 0.869 (0.030)\n",
      ">18 0.899 (0.027)\n",
      ">17 0.901 (0.028)\n",
      ">14 0.901 (0.027)\n"
     ]
    },
    {
     "data": {
      "image/png": "[encoded data removed]",
      "text/plain": [
       "<Figure size 432x288 with 1 Axes>"
      ]
     },
     "metadata": {
      "needs_background": "light"
     },
     "output_type": "display_data"
    }
   ],
   "source": [
    "# explore gradient boosting number of features on performance\n",
    "from numpy import mean\n",
    "from numpy import std\n",
    "from sklearn.datasets import make_classification\n",
    "from sklearn.model_selection import cross_val_score\n",
    "from sklearn.model_selection import RepeatedStratifiedKFold\n",
    "from sklearn.ensemble import GradientBoostingClassifier\n",
    "from matplotlib import pyplot\n",
    "% matplotlib inline\n",
    "\n",
    "# get the dataset\n",
    "def get_dataset():\n",
    "    X, y = make_classification(n_samples=1000, n_features=20, n_informative=15, n_redundant=5, random_state=7)\n",
    "    return X, y\n",
    "\n",
    "# get a list of models to evaluate\n",
    "def get_models():\n",
    "    models = dict()\n",
    "    \n",
    "    # explore number of features from 1 to 20\n",
    "    for i in range(1,21):\n",
    "        models[str(i)] = GradientBoostingClassifier(max_features=i)\n",
    "    return models\n",
    "\n",
    "# evaluate a given model using cross-validation\n",
    "def evaluate_model(model, X, y):\n",
    "    \n",
    "    # define the evaluation procedure\n",
    "    cv = RepeatedStratifiedKFold(n_splits=10, n_repeats=3, random_state=1)\n",
    "    \n",
    "    # evaluate the model and collect the results\n",
    "    scores = cross_val_score(model, X, y, scoring='accuracy', cv=cv, n_jobs=-1)\n",
    "    return scores\n",
    "\n",
    "# define dataset\n",
    "X, y = get_dataset()\n",
    "\n",
    "# get the models to evaluate\n",
    "models = get_models()\n",
    "\n",
    "# evaluate the models and store results\n",
    "results, names = list(), list()\n",
    "\n",
    "for name, model in models.items():\n",
    "    \n",
    "    # evaluate the model\n",
    "    scores = evaluate_model(model, X, y)\n",
    "    \n",
    "    # store the results\n",
    "    results.append(scores)\n",
    "    names.append(name)\n",
    "    \n",
    "    # summarize the performance along the way\n",
    "    print('>%s %.3f (%.3f)' % (name, mean(scores), std(scores)))\n",
    "    \n",
    "# plot model performance for comparison\n",
    "pyplot.boxplot(results, labels=names, showmeans=True)\n",
    "pyplot.show()"
   ]
  },
  {
   "cell_type": "markdown",
   "metadata": {},
   "source": [
    "#### Explore Learning Rate"
   ]
  },
  {
   "cell_type": "code",
   "execution_count": 11,
   "metadata": {},
   "outputs": [
    {
     "name": "stdout",
     "output_type": "stream",
     "text": [
      ">0.0100 0.832 (0.030)\n",
      ">0.0010 0.783 (0.037)\n",
      ">0.1000 0.898 (0.025)\n",
      ">0.0001 0.766 (0.050)\n",
      ">1.0000 0.906 (0.031)\n"
     ]
    },
    {
     "data": {
      "image/png": "[encoded data removed]",
      "text/plain": [
       "<Figure size 432x288 with 1 Axes>"
      ]
     },
     "metadata": {
      "needs_background": "light"
     },
     "output_type": "display_data"
    }
   ],
   "source": [
    "# explore gradient boosting ensemble learning rate effect on performance\n",
    "from numpy import mean\n",
    "from numpy import std\n",
    "from sklearn.datasets import make_classification\n",
    "from sklearn.model_selection import cross_val_score\n",
    "from sklearn.model_selection import RepeatedStratifiedKFold\n",
    "from sklearn.ensemble import GradientBoostingClassifier\n",
    "from matplotlib import pyplot\n",
    "\n",
    "# get the dataset\n",
    "def get_dataset():\n",
    "    X, y = make_classification(n_samples=1000, n_features=20, n_informative=15, n_redundant=5, random_state=7)\n",
    "    return X, y\n",
    "\n",
    "# get a list of models to evaluate\n",
    "def get_models():\n",
    "    models = dict()\n",
    "    \n",
    "    # define learning rates to explore\n",
    "    for i in [0.0001, 0.001, 0.01, 0.1, 1.0]:\n",
    "        key = '%.4f' % i\n",
    "        models[key] = GradientBoostingClassifier(learning_rate=i)\n",
    "        \n",
    "    return models\n",
    "\n",
    "# evaluate a given model using cross-validation\n",
    "def evaluate_model(model, X, y):\n",
    "    \n",
    "    # define the evaluation procedure\n",
    "    cv = RepeatedStratifiedKFold(n_splits=10, n_repeats=3, random_state=1)\n",
    "    \n",
    "    # evaluate the model and collect the results\n",
    "    scores = cross_val_score(model, X, y, scoring='accuracy', cv=cv, n_jobs=-1)\n",
    "    return scores\n",
    "\n",
    "# define dataset\n",
    "X, y = get_dataset()\n",
    "\n",
    "# get the models to evaluate\n",
    "models = get_models()\n",
    "\n",
    "# evaluate the models and store results\n",
    "results, names = list(), list()\n",
    "for name, model in models.items():\n",
    "    \n",
    "    # evaluate the model\n",
    "    scores = evaluate_model(model, X, y)\n",
    "    \n",
    "    # store the results\n",
    "    results.append(scores)\n",
    "    names.append(name)\n",
    "    \n",
    "    # summarize the performance along the way\n",
    "    print('>%s %.3f (%.3f)' % (name, mean(scores), std(scores)))\n",
    "    \n",
    "# plot model performance for comparison\n",
    "pyplot.boxplot(results, labels=names, showmeans=True)\n",
    "pyplot.show()"
   ]
  },
  {
   "cell_type": "markdown",
   "metadata": {},
   "source": [
    "#### Explore Tree Depth"
   ]
  },
  {
   "cell_type": "code",
   "execution_count": 13,
   "metadata": {},
   "outputs": [
    {
     "name": "stdout",
     "output_type": "stream",
     "text": [
      ">3 0.899 (0.025)\n",
      ">7 0.912 (0.025)\n",
      ">8 0.893 (0.027)\n",
      ">10 0.833 (0.036)\n",
      ">4 0.910 (0.031)\n",
      ">5 0.918 (0.027)\n",
      ">1 0.834 (0.037)\n",
      ">2 0.879 (0.029)\n",
      ">9 0.844 (0.040)\n",
      ">6 0.915 (0.029)\n"
     ]
    },
    {
     "data": {
      "image/png": "[encoded data removed]",
      "text/plain": [
       "<Figure size 432x288 with 1 Axes>"
      ]
     },
     "metadata": {
      "needs_background": "light"
     },
     "output_type": "display_data"
    }
   ],
   "source": [
    "# explore gradient boosting tree depth effect on performance\n",
    "from numpy import mean\n",
    "from numpy import std\n",
    "from sklearn.datasets import make_classification\n",
    "from sklearn.model_selection import cross_val_score\n",
    "from sklearn.model_selection import RepeatedStratifiedKFold\n",
    "from sklearn.ensemble import GradientBoostingClassifier\n",
    "from matplotlib import pyplot\n",
    "\n",
    "# get the dataset\n",
    "def get_dataset():\n",
    "    X, y = make_classification(n_samples=1000, n_features=20, n_informative=15, n_redundant=5, random_state=7)\n",
    "    return X, y\n",
    "\n",
    "# get a list of models to evaluate\n",
    "def get_models():\n",
    "    models = dict()\n",
    "    \n",
    "    # define max tree depths to explore between 1 and 10\n",
    "    for i in range(1,11):\n",
    "        models[str(i)] = GradientBoostingClassifier(max_depth=i)\n",
    "    return models\n",
    "\n",
    "# evaluate a given model using cross-validation\n",
    "def evaluate_model(model, X, y):\n",
    "    \n",
    "    # define the evaluation procedure\n",
    "    cv = RepeatedStratifiedKFold(n_splits=10, n_repeats=3, random_state=1)\n",
    "    \n",
    "    # evaluate the model and collect the results\n",
    "    scores = cross_val_score(model, X, y, scoring='accuracy', cv=cv, n_jobs=-1)\n",
    "    return scores\n",
    "\n",
    "# define dataset\n",
    "X, y = get_dataset()\n",
    "\n",
    "# get the models to evaluate\n",
    "models = get_models()\n",
    "\n",
    "# evaluate the models and store results\n",
    "results, names = list(), list()\n",
    "for name, model in models.items():\n",
    "    \n",
    "    # evaluate the model\n",
    "    scores = evaluate_model(model, X, y)\n",
    "    \n",
    "    # store the results\n",
    "    results.append(scores)\n",
    "    names.append(name)\n",
    "    \n",
    "    # summarize the performance along the way\n",
    "    print('>%s %.3f (%.3f)' % (name, mean(scores), std(scores)))\n",
    "    \n",
    "# plot model performance for comparison\n",
    "pyplot.boxplot(results, labels=names, showmeans=True)\n",
    "pyplot.show()"
   ]
  },
  {
   "cell_type": "markdown",
   "metadata": {},
   "source": [
    "#### Grid Search Hyperparameters"
   ]
  },
  {
   "cell_type": "code",
   "execution_count": 14,
   "metadata": {},
   "outputs": [
    {
     "name": "stdout",
     "output_type": "stream",
     "text": [
      "Best: 0.942000 using {'n_estimators': 500, 'subsample': 0.5, 'learning_rate': 0.1, 'max_depth': 9}\n",
      "0.501000 (0.002000) with: {'n_estimators': 10, 'subsample': 0.5, 'learning_rate': 0.0001, 'max_depth': 3}\n",
      "0.501000 (0.002000) with: {'n_estimators': 10, 'subsample': 0.7, 'learning_rate': 0.0001, 'max_depth': 3}\n",
      "0.501000 (0.002000) with: {'n_estimators': 10, 'subsample': 1.0, 'learning_rate': 0.0001, 'max_depth': 3}\n",
      "0.782667 (0.044231) with: {'n_estimators': 50, 'subsample': 0.5, 'learning_rate': 0.0001, 'max_depth': 3}\n",
      "0.781333 (0.037077) with: {'n_estimators': 50, 'subsample': 0.7, 'learning_rate': 0.0001, 'max_depth': 3}\n",
      "0.733000 (0.053377) with: {'n_estimators': 50, 'subsample': 1.0, 'learning_rate': 0.0001, 'max_depth': 3}\n",
      "0.828667 (0.031875) with: {'n_estimators': 100, 'subsample': 0.5, 'learning_rate': 0.0001, 'max_depth': 3}\n",
      "0.821667 (0.029599) with: {'n_estimators': 100, 'subsample': 0.7, 'learning_rate': 0.0001, 'max_depth': 3}\n",
      "0.765667 (0.050365) with: {'n_estimators': 100, 'subsample': 1.0, 'learning_rate': 0.0001, 'max_depth': 3}\n",
      "0.838333 (0.027799) with: {'n_estimators': 500, 'subsample': 0.5, 'learning_rate': 0.0001, 'max_depth': 3}\n",
      "0.823667 (0.029100) with: {'n_estimators': 500, 'subsample': 0.7, 'learning_rate': 0.0001, 'max_depth': 3}\n",
      "0.776000 (0.039859) with: {'n_estimators': 500, 'subsample': 1.0, 'learning_rate': 0.0001, 'max_depth': 3}\n",
      "0.501000 (0.002000) with: {'n_estimators': 10, 'subsample': 0.5, 'learning_rate': 0.0001, 'max_depth': 7}\n",
      "0.501000 (0.002000) with: {'n_estimators': 10, 'subsample': 0.7, 'learning_rate': 0.0001, 'max_depth': 7}\n",
      "0.501000 (0.002000) with: {'n_estimators': 10, 'subsample': 1.0, 'learning_rate': 0.0001, 'max_depth': 7}\n",
      "0.843667 (0.035949) with: {'n_estimators': 50, 'subsample': 0.5, 'learning_rate': 0.0001, 'max_depth': 7}\n",
      "0.848333 (0.039032) with: {'n_estimators': 50, 'subsample': 0.7, 'learning_rate': 0.0001, 'max_depth': 7}\n",
      "0.806000 (0.038601) with: {'n_estimators': 50, 'subsample': 1.0, 'learning_rate': 0.0001, 'max_depth': 7}\n",
      "0.871000 (0.034023) with: {'n_estimators': 100, 'subsample': 0.5, 'learning_rate': 0.0001, 'max_depth': 7}\n",
      "0.874667 (0.034033) with: {'n_estimators': 100, 'subsample': 0.7, 'learning_rate': 0.0001, 'max_depth': 7}\n",
      "0.808333 (0.040681) with: {'n_estimators': 100, 'subsample': 1.0, 'learning_rate': 0.0001, 'max_depth': 7}\n",
      "0.887333 (0.029114) with: {'n_estimators': 500, 'subsample': 0.5, 'learning_rate': 0.0001, 'max_depth': 7}\n",
      "0.882000 (0.033628) with: {'n_estimators': 500, 'subsample': 0.7, 'learning_rate': 0.0001, 'max_depth': 7}\n",
      "0.809000 (0.042246) with: {'n_estimators': 500, 'subsample': 1.0, 'learning_rate': 0.0001, 'max_depth': 7}\n",
      "0.501000 (0.002000) with: {'n_estimators': 10, 'subsample': 0.5, 'learning_rate': 0.0001, 'max_depth': 9}\n",
      "0.501000 (0.002000) with: {'n_estimators': 10, 'subsample': 0.7, 'learning_rate': 0.0001, 'max_depth': 9}\n",
      "0.501000 (0.002000) with: {'n_estimators': 10, 'subsample': 1.0, 'learning_rate': 0.0001, 'max_depth': 9}\n",
      "0.844667 (0.032987) with: {'n_estimators': 50, 'subsample': 0.5, 'learning_rate': 0.0001, 'max_depth': 9}\n",
      "0.839333 (0.036252) with: {'n_estimators': 50, 'subsample': 0.7, 'learning_rate': 0.0001, 'max_depth': 9}\n",
      "0.813333 (0.040394) with: {'n_estimators': 50, 'subsample': 1.0, 'learning_rate': 0.0001, 'max_depth': 9}\n",
      "0.878333 (0.033201) with: {'n_estimators': 100, 'subsample': 0.5, 'learning_rate': 0.0001, 'max_depth': 9}\n",
      "0.881000 (0.033717) with: {'n_estimators': 100, 'subsample': 0.7, 'learning_rate': 0.0001, 'max_depth': 9}\n",
      "0.816333 (0.040515) with: {'n_estimators': 100, 'subsample': 1.0, 'learning_rate': 0.0001, 'max_depth': 9}\n",
      "0.892000 (0.031599) with: {'n_estimators': 500, 'subsample': 0.5, 'learning_rate': 0.0001, 'max_depth': 9}\n",
      "0.887333 (0.034772) with: {'n_estimators': 500, 'subsample': 0.7, 'learning_rate': 0.0001, 'max_depth': 9}\n",
      "0.812667 (0.040954) with: {'n_estimators': 500, 'subsample': 1.0, 'learning_rate': 0.0001, 'max_depth': 9}\n",
      "0.821333 (0.031340) with: {'n_estimators': 10, 'subsample': 0.5, 'learning_rate': 0.001, 'max_depth': 3}\n",
      "0.818333 (0.033260) with: {'n_estimators': 10, 'subsample': 0.7, 'learning_rate': 0.001, 'max_depth': 3}\n",
      "0.765667 (0.050365) with: {'n_estimators': 10, 'subsample': 1.0, 'learning_rate': 0.001, 'max_depth': 3}\n",
      "0.833667 (0.030824) with: {'n_estimators': 50, 'subsample': 0.5, 'learning_rate': 0.001, 'max_depth': 3}\n",
      "0.823333 (0.030218) with: {'n_estimators': 50, 'subsample': 0.7, 'learning_rate': 0.001, 'max_depth': 3}\n",
      "0.776333 (0.039885) with: {'n_estimators': 50, 'subsample': 1.0, 'learning_rate': 0.001, 'max_depth': 3}\n",
      "0.836667 (0.032620) with: {'n_estimators': 100, 'subsample': 0.5, 'learning_rate': 0.001, 'max_depth': 3}\n",
      "0.821667 (0.026651) with: {'n_estimators': 100, 'subsample': 0.7, 'learning_rate': 0.001, 'max_depth': 3}\n",
      "0.783333 (0.037379) with: {'n_estimators': 100, 'subsample': 1.0, 'learning_rate': 0.001, 'max_depth': 3}\n",
      "0.846667 (0.030702) with: {'n_estimators': 500, 'subsample': 0.5, 'learning_rate': 0.001, 'max_depth': 3}\n",
      "0.838333 (0.029529) with: {'n_estimators': 500, 'subsample': 0.7, 'learning_rate': 0.001, 'max_depth': 3}\n",
      "0.818667 (0.033060) with: {'n_estimators': 500, 'subsample': 1.0, 'learning_rate': 0.001, 'max_depth': 3}\n",
      "0.851333 (0.031141) with: {'n_estimators': 10, 'subsample': 0.5, 'learning_rate': 0.001, 'max_depth': 7}\n",
      "0.857333 (0.031367) with: {'n_estimators': 10, 'subsample': 0.7, 'learning_rate': 0.001, 'max_depth': 7}\n",
      "0.807333 (0.039863) with: {'n_estimators': 10, 'subsample': 1.0, 'learning_rate': 0.001, 'max_depth': 7}\n",
      "0.878667 (0.030570) with: {'n_estimators': 50, 'subsample': 0.5, 'learning_rate': 0.001, 'max_depth': 7}\n",
      "0.879667 (0.030518) with: {'n_estimators': 50, 'subsample': 0.7, 'learning_rate': 0.001, 'max_depth': 7}\n",
      "0.807000 (0.040248) with: {'n_estimators': 50, 'subsample': 1.0, 'learning_rate': 0.001, 'max_depth': 7}\n",
      "0.887333 (0.029806) with: {'n_estimators': 100, 'subsample': 0.5, 'learning_rate': 0.001, 'max_depth': 7}\n",
      "0.885333 (0.030599) with: {'n_estimators': 100, 'subsample': 0.7, 'learning_rate': 0.001, 'max_depth': 7}\n",
      "0.811000 (0.038321) with: {'n_estimators': 100, 'subsample': 1.0, 'learning_rate': 0.001, 'max_depth': 7}\n",
      "0.891667 (0.033822) with: {'n_estimators': 500, 'subsample': 0.5, 'learning_rate': 0.001, 'max_depth': 7}\n",
      "0.889667 (0.033862) with: {'n_estimators': 500, 'subsample': 0.7, 'learning_rate': 0.001, 'max_depth': 7}\n",
      "0.829667 (0.034829) with: {'n_estimators': 500, 'subsample': 1.0, 'learning_rate': 0.001, 'max_depth': 7}\n",
      "0.854333 (0.035483) with: {'n_estimators': 10, 'subsample': 0.5, 'learning_rate': 0.001, 'max_depth': 9}\n",
      "0.863000 (0.039961) with: {'n_estimators': 10, 'subsample': 0.7, 'learning_rate': 0.001, 'max_depth': 9}\n",
      "0.814667 (0.038482) with: {'n_estimators': 10, 'subsample': 1.0, 'learning_rate': 0.001, 'max_depth': 9}\n",
      "0.887667 (0.031088) with: {'n_estimators': 50, 'subsample': 0.5, 'learning_rate': 0.001, 'max_depth': 9}\n",
      "0.882333 (0.029500) with: {'n_estimators': 50, 'subsample': 0.7, 'learning_rate': 0.001, 'max_depth': 9}\n",
      "0.814667 (0.041133) with: {'n_estimators': 50, 'subsample': 1.0, 'learning_rate': 0.001, 'max_depth': 9}\n",
      "0.889333 (0.030712) with: {'n_estimators': 100, 'subsample': 0.5, 'learning_rate': 0.001, 'max_depth': 9}\n",
      "0.888667 (0.036771) with: {'n_estimators': 100, 'subsample': 0.7, 'learning_rate': 0.001, 'max_depth': 9}\n",
      "0.809667 (0.041987) with: {'n_estimators': 100, 'subsample': 1.0, 'learning_rate': 0.001, 'max_depth': 9}\n",
      "0.895333 (0.029550) with: {'n_estimators': 500, 'subsample': 0.5, 'learning_rate': 0.001, 'max_depth': 9}\n",
      "0.894000 (0.037316) with: {'n_estimators': 500, 'subsample': 0.7, 'learning_rate': 0.001, 'max_depth': 9}\n",
      "0.818000 (0.042238) with: {'n_estimators': 500, 'subsample': 1.0, 'learning_rate': 0.001, 'max_depth': 9}\n",
      "0.819667 (0.028672) with: {'n_estimators': 10, 'subsample': 0.5, 'learning_rate': 0.01, 'max_depth': 3}\n",
      "0.821000 (0.032910) with: {'n_estimators': 10, 'subsample': 0.7, 'learning_rate': 0.01, 'max_depth': 3}\n",
      "0.784000 (0.035557) with: {'n_estimators': 10, 'subsample': 1.0, 'learning_rate': 0.01, 'max_depth': 3}\n",
      "0.843000 (0.027167) with: {'n_estimators': 50, 'subsample': 0.5, 'learning_rate': 0.01, 'max_depth': 3}\n",
      "0.841667 (0.031343) with: {'n_estimators': 50, 'subsample': 0.7, 'learning_rate': 0.01, 'max_depth': 3}\n",
      "0.819333 (0.033775) with: {'n_estimators': 50, 'subsample': 1.0, 'learning_rate': 0.01, 'max_depth': 3}\n",
      "0.854000 (0.025851) with: {'n_estimators': 100, 'subsample': 0.5, 'learning_rate': 0.01, 'max_depth': 3}\n",
      "0.845000 (0.030645) with: {'n_estimators': 100, 'subsample': 0.7, 'learning_rate': 0.01, 'max_depth': 3}\n",
      "0.831667 (0.030109) with: {'n_estimators': 100, 'subsample': 1.0, 'learning_rate': 0.01, 'max_depth': 3}\n",
      "0.892333 (0.024565) with: {'n_estimators': 500, 'subsample': 0.5, 'learning_rate': 0.01, 'max_depth': 3}\n",
      "0.888000 (0.028332) with: {'n_estimators': 500, 'subsample': 0.7, 'learning_rate': 0.01, 'max_depth': 3}\n",
      "0.876000 (0.031527) with: {'n_estimators': 500, 'subsample': 1.0, 'learning_rate': 0.01, 'max_depth': 3}\n",
      "0.865000 (0.030084) with: {'n_estimators': 10, 'subsample': 0.5, 'learning_rate': 0.01, 'max_depth': 7}\n",
      "0.868667 (0.031340) with: {'n_estimators': 10, 'subsample': 0.7, 'learning_rate': 0.01, 'max_depth': 7}\n",
      "0.810333 (0.039404) with: {'n_estimators': 10, 'subsample': 1.0, 'learning_rate': 0.01, 'max_depth': 7}\n",
      "0.883000 (0.033601) with: {'n_estimators': 50, 'subsample': 0.5, 'learning_rate': 0.01, 'max_depth': 7}\n",
      "0.884333 (0.034999) with: {'n_estimators': 50, 'subsample': 0.7, 'learning_rate': 0.01, 'max_depth': 7}\n",
      "0.828667 (0.036640) with: {'n_estimators': 50, 'subsample': 1.0, 'learning_rate': 0.01, 'max_depth': 7}\n",
      "0.895000 (0.033532) with: {'n_estimators': 100, 'subsample': 0.5, 'learning_rate': 0.01, 'max_depth': 7}\n",
      "0.891000 (0.033734) with: {'n_estimators': 100, 'subsample': 0.7, 'learning_rate': 0.01, 'max_depth': 7}\n",
      "0.847667 (0.033373) with: {'n_estimators': 100, 'subsample': 1.0, 'learning_rate': 0.01, 'max_depth': 7}\n",
      "0.927333 (0.023982) with: {'n_estimators': 500, 'subsample': 0.5, 'learning_rate': 0.01, 'max_depth': 7}\n",
      "0.921333 (0.027160) with: {'n_estimators': 500, 'subsample': 0.7, 'learning_rate': 0.01, 'max_depth': 7}\n",
      "0.888333 (0.027930) with: {'n_estimators': 500, 'subsample': 1.0, 'learning_rate': 0.01, 'max_depth': 7}\n",
      "0.867667 (0.026386) with: {'n_estimators': 10, 'subsample': 0.5, 'learning_rate': 0.01, 'max_depth': 9}\n",
      "0.864667 (0.035559) with: {'n_estimators': 10, 'subsample': 0.7, 'learning_rate': 0.01, 'max_depth': 9}\n",
      "0.807000 (0.038972) with: {'n_estimators': 10, 'subsample': 1.0, 'learning_rate': 0.01, 'max_depth': 9}\n",
      "0.888000 (0.030737) with: {'n_estimators': 50, 'subsample': 0.5, 'learning_rate': 0.01, 'max_depth': 9}\n",
      "0.888667 (0.031423) with: {'n_estimators': 50, 'subsample': 0.7, 'learning_rate': 0.01, 'max_depth': 9}\n",
      "0.817667 (0.040408) with: {'n_estimators': 50, 'subsample': 1.0, 'learning_rate': 0.01, 'max_depth': 9}\n",
      "0.898000 (0.033048) with: {'n_estimators': 100, 'subsample': 0.5, 'learning_rate': 0.01, 'max_depth': 9}\n",
      "0.893667 (0.033565) with: {'n_estimators': 100, 'subsample': 0.7, 'learning_rate': 0.01, 'max_depth': 9}\n",
      "0.823000 (0.040295) with: {'n_estimators': 100, 'subsample': 1.0, 'learning_rate': 0.01, 'max_depth': 9}\n",
      "0.926000 (0.022886) with: {'n_estimators': 500, 'subsample': 0.5, 'learning_rate': 0.01, 'max_depth': 9}\n",
      "0.921333 (0.026859) with: {'n_estimators': 500, 'subsample': 0.7, 'learning_rate': 0.01, 'max_depth': 9}\n",
      "0.837667 (0.038888) with: {'n_estimators': 500, 'subsample': 1.0, 'learning_rate': 0.01, 'max_depth': 9}\n",
      "0.844000 (0.034755) with: {'n_estimators': 10, 'subsample': 0.5, 'learning_rate': 0.1, 'max_depth': 3}\n",
      "0.843000 (0.034634) with: {'n_estimators': 10, 'subsample': 0.7, 'learning_rate': 0.1, 'max_depth': 3}\n",
      "0.834333 (0.035215) with: {'n_estimators': 10, 'subsample': 1.0, 'learning_rate': 0.1, 'max_depth': 3}\n",
      "0.885333 (0.028643) with: {'n_estimators': 50, 'subsample': 0.5, 'learning_rate': 0.1, 'max_depth': 3}\n",
      "0.890667 (0.029890) with: {'n_estimators': 50, 'subsample': 0.7, 'learning_rate': 0.1, 'max_depth': 3}\n",
      "0.877000 (0.031965) with: {'n_estimators': 50, 'subsample': 1.0, 'learning_rate': 0.1, 'max_depth': 3}\n",
      "0.907000 (0.024373) with: {'n_estimators': 100, 'subsample': 0.5, 'learning_rate': 0.1, 'max_depth': 3}\n",
      "0.902333 (0.025178) with: {'n_estimators': 100, 'subsample': 0.7, 'learning_rate': 0.1, 'max_depth': 3}\n",
      "0.898667 (0.026039) with: {'n_estimators': 100, 'subsample': 1.0, 'learning_rate': 0.1, 'max_depth': 3}\n",
      "0.924333 (0.020875) with: {'n_estimators': 500, 'subsample': 0.5, 'learning_rate': 0.1, 'max_depth': 3}\n",
      "0.929333 (0.022247) with: {'n_estimators': 500, 'subsample': 0.7, 'learning_rate': 0.1, 'max_depth': 3}\n",
      "0.921333 (0.022611) with: {'n_estimators': 500, 'subsample': 1.0, 'learning_rate': 0.1, 'max_depth': 3}\n",
      "0.873667 (0.032365) with: {'n_estimators': 10, 'subsample': 0.5, 'learning_rate': 0.1, 'max_depth': 7}\n",
      "0.872333 (0.023850) with: {'n_estimators': 10, 'subsample': 0.7, 'learning_rate': 0.1, 'max_depth': 7}\n",
      "0.842667 (0.035702) with: {'n_estimators': 10, 'subsample': 1.0, 'learning_rate': 0.1, 'max_depth': 7}\n",
      "0.905667 (0.025896) with: {'n_estimators': 50, 'subsample': 0.5, 'learning_rate': 0.1, 'max_depth': 7}\n",
      "0.907333 (0.026023) with: {'n_estimators': 50, 'subsample': 0.7, 'learning_rate': 0.1, 'max_depth': 7}\n",
      "0.891667 (0.029624) with: {'n_estimators': 50, 'subsample': 1.0, 'learning_rate': 0.1, 'max_depth': 7}\n",
      "0.927333 (0.024778) with: {'n_estimators': 100, 'subsample': 0.5, 'learning_rate': 0.1, 'max_depth': 7}\n",
      "0.928000 (0.024605) with: {'n_estimators': 100, 'subsample': 0.7, 'learning_rate': 0.1, 'max_depth': 7}\n",
      "0.909667 (0.028137) with: {'n_estimators': 100, 'subsample': 1.0, 'learning_rate': 0.1, 'max_depth': 7}\n",
      "0.937333 (0.020199) with: {'n_estimators': 500, 'subsample': 0.5, 'learning_rate': 0.1, 'max_depth': 7}\n",
      "0.937667 (0.020142) with: {'n_estimators': 500, 'subsample': 0.7, 'learning_rate': 0.1, 'max_depth': 7}\n",
      "0.908000 (0.025839) with: {'n_estimators': 500, 'subsample': 1.0, 'learning_rate': 0.1, 'max_depth': 7}\n",
      "0.884667 (0.030686) with: {'n_estimators': 10, 'subsample': 0.5, 'learning_rate': 0.1, 'max_depth': 9}\n",
      "0.880000 (0.032822) with: {'n_estimators': 10, 'subsample': 0.7, 'learning_rate': 0.1, 'max_depth': 9}\n",
      "0.824667 (0.039320) with: {'n_estimators': 10, 'subsample': 1.0, 'learning_rate': 0.1, 'max_depth': 9}\n",
      "0.915667 (0.026890) with: {'n_estimators': 50, 'subsample': 0.5, 'learning_rate': 0.1, 'max_depth': 9}\n",
      "0.913333 (0.024220) with: {'n_estimators': 50, 'subsample': 0.7, 'learning_rate': 0.1, 'max_depth': 9}\n",
      "0.835667 (0.038921) with: {'n_estimators': 50, 'subsample': 1.0, 'learning_rate': 0.1, 'max_depth': 9}\n",
      "0.930000 (0.022714) with: {'n_estimators': 100, 'subsample': 0.5, 'learning_rate': 0.1, 'max_depth': 9}\n",
      "0.929667 (0.024392) with: {'n_estimators': 100, 'subsample': 0.7, 'learning_rate': 0.1, 'max_depth': 9}\n",
      "0.848667 (0.042564) with: {'n_estimators': 100, 'subsample': 1.0, 'learning_rate': 0.1, 'max_depth': 9}\n",
      "0.942000 (0.026026) with: {'n_estimators': 500, 'subsample': 0.5, 'learning_rate': 0.1, 'max_depth': 9}\n",
      "0.935333 (0.022073) with: {'n_estimators': 500, 'subsample': 0.7, 'learning_rate': 0.1, 'max_depth': 9}\n",
      "0.841667 (0.038713) with: {'n_estimators': 500, 'subsample': 1.0, 'learning_rate': 0.1, 'max_depth': 9}\n",
      "0.825667 (0.044793) with: {'n_estimators': 10, 'subsample': 0.5, 'learning_rate': 1.0, 'max_depth': 3}\n",
      "0.844333 (0.027497) with: {'n_estimators': 10, 'subsample': 0.7, 'learning_rate': 1.0, 'max_depth': 3}\n",
      "0.851000 (0.032508) with: {'n_estimators': 10, 'subsample': 1.0, 'learning_rate': 1.0, 'max_depth': 3}\n",
      "0.828333 (0.035429) with: {'n_estimators': 50, 'subsample': 0.5, 'learning_rate': 1.0, 'max_depth': 3}\n",
      "0.863667 (0.035346) with: {'n_estimators': 50, 'subsample': 0.7, 'learning_rate': 1.0, 'max_depth': 3}\n",
      "0.894000 (0.033552) with: {'n_estimators': 50, 'subsample': 1.0, 'learning_rate': 1.0, 'max_depth': 3}\n",
      "0.837667 (0.033610) with: {'n_estimators': 100, 'subsample': 0.5, 'learning_rate': 1.0, 'max_depth': 3}\n",
      "0.877000 (0.031528) with: {'n_estimators': 100, 'subsample': 0.7, 'learning_rate': 1.0, 'max_depth': 3}\n",
      "0.906667 (0.031491) with: {'n_estimators': 100, 'subsample': 1.0, 'learning_rate': 1.0, 'max_depth': 3}\n",
      "0.829000 (0.074562) with: {'n_estimators': 500, 'subsample': 0.5, 'learning_rate': 1.0, 'max_depth': 3}\n",
      "0.893000 (0.034500) with: {'n_estimators': 500, 'subsample': 0.7, 'learning_rate': 1.0, 'max_depth': 3}\n",
      "0.909333 (0.031680) with: {'n_estimators': 500, 'subsample': 1.0, 'learning_rate': 1.0, 'max_depth': 3}\n",
      "0.807333 (0.031569) with: {'n_estimators': 10, 'subsample': 0.5, 'learning_rate': 1.0, 'max_depth': 7}\n",
      "0.848667 (0.027459) with: {'n_estimators': 10, 'subsample': 0.7, 'learning_rate': 1.0, 'max_depth': 7}\n",
      "0.884667 (0.029152) with: {'n_estimators': 10, 'subsample': 1.0, 'learning_rate': 1.0, 'max_depth': 7}\n",
      "0.828333 (0.047313) with: {'n_estimators': 50, 'subsample': 0.5, 'learning_rate': 1.0, 'max_depth': 7}\n",
      "0.889333 (0.028976) with: {'n_estimators': 50, 'subsample': 0.7, 'learning_rate': 1.0, 'max_depth': 7}\n",
      "0.901000 (0.033840) with: {'n_estimators': 50, 'subsample': 1.0, 'learning_rate': 1.0, 'max_depth': 7}\n",
      "0.825333 (0.056997) with: {'n_estimators': 100, 'subsample': 0.5, 'learning_rate': 1.0, 'max_depth': 7}\n",
      "0.893000 (0.026097) with: {'n_estimators': 100, 'subsample': 0.7, 'learning_rate': 1.0, 'max_depth': 7}\n",
      "0.897333 (0.032568) with: {'n_estimators': 100, 'subsample': 1.0, 'learning_rate': 1.0, 'max_depth': 7}\n",
      "0.761667 (0.114104) with: {'n_estimators': 500, 'subsample': 0.5, 'learning_rate': 1.0, 'max_depth': 7}\n",
      "0.889667 (0.035210) with: {'n_estimators': 500, 'subsample': 0.7, 'learning_rate': 1.0, 'max_depth': 7}\n",
      "0.903000 (0.029147) with: {'n_estimators': 500, 'subsample': 1.0, 'learning_rate': 1.0, 'max_depth': 7}\n",
      "0.810667 (0.044194) with: {'n_estimators': 10, 'subsample': 0.5, 'learning_rate': 1.0, 'max_depth': 9}\n",
      "0.859000 (0.031586) with: {'n_estimators': 10, 'subsample': 0.7, 'learning_rate': 1.0, 'max_depth': 9}\n",
      "0.878000 (0.032600) with: {'n_estimators': 10, 'subsample': 1.0, 'learning_rate': 1.0, 'max_depth': 9}\n",
      "0.850333 (0.039597) with: {'n_estimators': 50, 'subsample': 0.5, 'learning_rate': 1.0, 'max_depth': 9}\n",
      "0.886000 (0.032910) with: {'n_estimators': 50, 'subsample': 0.7, 'learning_rate': 1.0, 'max_depth': 9}\n",
      "0.880667 (0.029059) with: {'n_estimators': 50, 'subsample': 1.0, 'learning_rate': 1.0, 'max_depth': 9}\n",
      "0.831667 (0.063373) with: {'n_estimators': 100, 'subsample': 0.5, 'learning_rate': 1.0, 'max_depth': 9}\n",
      "0.880667 (0.027158) with: {'n_estimators': 100, 'subsample': 0.7, 'learning_rate': 1.0, 'max_depth': 9}\n",
      "0.885333 (0.031112) with: {'n_estimators': 100, 'subsample': 1.0, 'learning_rate': 1.0, 'max_depth': 9}\n",
      "0.788333 (0.127498) with: {'n_estimators': 500, 'subsample': 0.5, 'learning_rate': 1.0, 'max_depth': 9}\n",
      "0.877333 (0.031295) with: {'n_estimators': 500, 'subsample': 0.7, 'learning_rate': 1.0, 'max_depth': 9}\n",
      "0.883333 (0.029423) with: {'n_estimators': 500, 'subsample': 1.0, 'learning_rate': 1.0, 'max_depth': 9}\n"
     ]
    }
   ],
   "source": [
    "# example of grid searching key hyperparameters for gradient boosting on a classification dataset\n",
    "from sklearn.datasets import make_classification\n",
    "from sklearn.model_selection import RepeatedStratifiedKFold\n",
    "from sklearn.model_selection import GridSearchCV\n",
    "from sklearn.ensemble import GradientBoostingClassifier\n",
    "\n",
    "# define dataset\n",
    "X, y = make_classification(n_samples=1000, n_features=20, n_informative=15, n_redundant=5, random_state=7)\n",
    "\n",
    "# define the model with default hyperparameters\n",
    "model = GradientBoostingClassifier()\n",
    "\n",
    "# define the grid of values to search\n",
    "grid = dict()\n",
    "grid['n_estimators'] = [10, 50, 100, 500]\n",
    "grid['learning_rate'] = [0.0001, 0.001, 0.01, 0.1, 1.0]\n",
    "grid['subsample'] = [0.5, 0.7, 1.0]\n",
    "grid['max_depth'] = [3, 7, 9]\n",
    "\n",
    "# define the evaluation procedure\n",
    "cv = RepeatedStratifiedKFold(n_splits=10, n_repeats=3, random_state=1)\n",
    "\n",
    "# define the grid search procedure\n",
    "grid_search = GridSearchCV(estimator=model, param_grid=grid, n_jobs=-1, cv=cv, scoring='accuracy')\n",
    "\n",
    "# execute the grid search\n",
    "grid_result = grid_search.fit(X, y)\n",
    "\n",
    "# summarize the best score and configuration\n",
    "print(\"Best: %f using %s\" % (grid_result.best_score_, grid_result.best_params_))\n",
    "\n",
    "# summarize all scores that were evaluated\n",
    "means = grid_result.cv_results_['mean_test_score']\n",
    "stds = grid_result.cv_results_['std_test_score']\n",
    "params = grid_result.cv_results_['params']\n",
    "for mean, stdev, param in zip(means, stds, params):\n",
    "    print(\"%f (%f) with: %r\" % (mean, stdev, param))"
   ]
  }
 ],
 "metadata": {
  "kernelspec": {
   "display_name": "Python 3",
   "language": "python",
   "name": "python3"
  },
  "language_info": {
   "codemirror_mode": {
    "name": "ipython",
    "version": 3
   },
   "file_extension": ".py",
   "mimetype": "text/x-python",
   "name": "python",
   "nbconvert_exporter": "python",
   "pygments_lexer": "ipython3",
   "version": "3.5.6"
  }
 },
 "nbformat": 4,
 "nbformat_minor": 4
}
