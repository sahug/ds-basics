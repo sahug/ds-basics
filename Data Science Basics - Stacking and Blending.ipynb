{
 "cells": [
  {
   "cell_type": "code",
   "execution_count": null,
   "metadata": {},
   "outputs": [],
   "source": [
    "# Import necessary libraries\n",
    "\n",
    "import warnings\n",
    "\n",
    "from mlxtend.classifier import StackingClassifier\n",
    "from sklearn import model_selection\n",
    "from sklearn.ensemble import RandomForestClassifier\n",
    "from sklearn.linear_model import LogisticRegression\n",
    "from sklearn.naive_bayes import GaussianNB\n",
    "from sklearn.neighbors import KNeighborsClassifier\n",
    "from sklearn.svm import LinearSVC\n",
    "\n",
    "warnings.filterwarnings(\"ignore\")"
   ]
  },
  {
   "cell_type": "code",
   "execution_count": null,
   "metadata": {},
   "outputs": [],
   "source": [
    "# Create Dataset\n",
    "\n",
    "from sklearn import datasets\n",
    "\n",
    "iris = datasets.load_iris()\n",
    "X_train, y_train = iris.data[:, 1:3], iris.target"
   ]
  },
  {
   "cell_type": "code",
   "execution_count": null,
   "metadata": {},
   "outputs": [],
   "source": [
    "# Defining base learners\n",
    "\n",
    "myClf1 = KNeighborsClassifier(n_neighbors=1)\n",
    "myClf2 = RandomForestClassifier(random_state=1)\n",
    "myClf3 = GaussianNB()"
   ]
  },
  {
   "cell_type": "code",
   "execution_count": null,
   "metadata": {},
   "outputs": [],
   "source": [
    "# Defining meta model\n",
    "\n",
    "myLr = LogisticRegression()"
   ]
  },
  {
   "cell_type": "code",
   "execution_count": null,
   "metadata": {},
   "outputs": [],
   "source": [
    "# Creating stacking classifier with above models\n",
    "\n",
    "stackingClf = StackingClassifier(\n",
    "    classifiers=[myClf1, myClf2, myClf3], meta_classifier=myLr\n",
    ")"
   ]
  },
  {
   "cell_type": "code",
   "execution_count": null,
   "metadata": {},
   "outputs": [],
   "source": [
    "print(\"Doing 3-fold cross validation here:\\n\")\n",
    "\n",
    "for iterClf, iterable in zip(\n",
    "    [myClf1, myClf2, myClf3, stackingClf],\n",
    "    [\n",
    "        \"KNN Model\",\n",
    "        \"Random Forest Model\",\n",
    "        \"Naive Bayes Model\",\n",
    "        \"Stacking Classifier Model\",\n",
    "    ],\n",
    "):\n",
    "\n",
    "    scores = model_selection.cross_val_score(\n",
    "        iterClf, X_train, y_train, cv=3, scoring=\"accuracy\"\n",
    "    )\n",
    "\n",
    "    print(\"Accuracy: %0.3f (+/- %0.3f) [%s]\" % (scores.mean(), scores.std(), iterable))"
   ]
  }
 ],
 "metadata": {
  "kernelspec": {
   "display_name": "Python 3",
   "language": "python",
   "name": "python3"
  },
  "language_info": {
   "codemirror_mode": {
    "name": "ipython",
    "version": 3
   },
   "file_extension": ".py",
   "mimetype": "text/x-python",
   "name": "python",
   "nbconvert_exporter": "python",
   "pygments_lexer": "ipython3",
   "version": "3.5.6"
  }
 },
 "nbformat": 4,
 "nbformat_minor": 4
}
