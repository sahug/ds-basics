{
 "cells": [
  {
   "cell_type": "markdown",
   "metadata": {},
   "source": [
    "# Data Science Basics - Apriori Algorithm - Online Retail Dataset"
   ]
  },
  {
   "cell_type": "code",
   "execution_count": null,
   "metadata": {
    "scrolled": true
   },
   "outputs": [],
   "source": [
    "import pandas as pd\n",
    "\n",
    "# Install mlxtend in Anaconda to a particular env by running below command -\n",
    "# conda install --name datascience -c conda-forge mlxtend\n",
    "# in a terminal\n",
    "from mlxtend.frequent_patterns import apriori, association_rules\n",
    "\n",
    "df = pd.read_excel(\"data/Online_Retail.xlsx\")\n",
    "df.head()"
   ]
  },
  {
   "cell_type": "markdown",
   "metadata": {},
   "source": [
    "## Cleaning data. Removing spaces from description, and data that doesn't has invoice no and negative Quantity transaction, with Invoice starting with \"C\""
   ]
  },
  {
   "cell_type": "code",
   "execution_count": null,
   "metadata": {},
   "outputs": [],
   "source": [
    "df[\"Description\"] = df[\"Description\"].str.strip()\n",
    "df.dropna(axis=0, subset=[\"InvoiceNo\"], inplace=True)\n",
    "df[\"InvoiceNo\"] = df[\"InvoiceNo\"].astype(\"str\")\n",
    "df = df[-df[\"InvoiceNo\"].str.contains(\"C\")]\n",
    "df"
   ]
  },
  {
   "cell_type": "markdown",
   "metadata": {},
   "source": [
    "## Consolidating items in to one transaction per row for each product and to keep the data small we are only looking for sales in france"
   ]
  },
  {
   "cell_type": "code",
   "execution_count": null,
   "metadata": {},
   "outputs": [],
   "source": [
    "basket = (\n",
    "    df[df[\"Country\"] == \"France\"]\n",
    "    .groupby([\"InvoiceNo\", \"Description\"])[\"Quantity\"]\n",
    "    .sum()\n",
    "    .unstack()\n",
    "    .reset_index()\n",
    "    .fillna(0)\n",
    "    .set_index(\"InvoiceNo\")\n",
    ")\n",
    "basket"
   ]
  },
  {
   "cell_type": "markdown",
   "metadata": {},
   "source": [
    "## Making sure anything positive is converted to 1 and anything negative is converted to 0"
   ]
  },
  {
   "cell_type": "code",
   "execution_count": null,
   "metadata": {},
   "outputs": [],
   "source": [
    "def encode_units(x):\n",
    "    if x <= 0:\n",
    "        return 0\n",
    "    if x >= 1:\n",
    "        return 1\n",
    "\n",
    "\n",
    "basket_sets = basket.applymap(encode_units)\n",
    "basket_sets.drop(\n",
    "    \"POSTAGE\", inplace=True, axis=1\n",
    ")  # Dropping postage column as its of not much use\n",
    "basket_sets"
   ]
  },
  {
   "cell_type": "markdown",
   "metadata": {},
   "source": [
    "## Randomly choosing min support and threshold"
   ]
  },
  {
   "cell_type": "code",
   "execution_count": null,
   "metadata": {},
   "outputs": [],
   "source": [
    "frequent_itemsets = apriori(basket_sets, min_support=0.07, use_colnames=True)\n",
    "rules = association_rules(frequent_itemsets, metric=\"lift\", min_threshold=1)\n",
    "rules.head()"
   ]
  },
  {
   "cell_type": "markdown",
   "metadata": {},
   "source": [
    "## Adding other constraints on rules such as lift and confidence level"
   ]
  },
  {
   "cell_type": "code",
   "execution_count": null,
   "metadata": {
    "scrolled": true
   },
   "outputs": [],
   "source": [
    "rules[(rules[\"lift\"] >= 6) & (rules[\"confidence\"] >= 0.8)]"
   ]
  }
 ],
 "metadata": {
  "kernelspec": {
   "display_name": "Python 3",
   "language": "python",
   "name": "python3"
  },
  "language_info": {
   "codemirror_mode": {
    "name": "ipython",
    "version": 3
   },
   "file_extension": ".py",
   "mimetype": "text/x-python",
   "name": "python",
   "nbconvert_exporter": "python",
   "pygments_lexer": "ipython3",
   "version": "3.5.6"
  }
 },
 "nbformat": 4,
 "nbformat_minor": 4
}
