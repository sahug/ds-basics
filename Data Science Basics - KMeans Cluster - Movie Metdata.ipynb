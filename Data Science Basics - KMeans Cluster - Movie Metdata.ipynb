{
 "cells": [
  {
   "cell_type": "markdown",
   "metadata": {},
   "source": [
    "# Data Science Basics - KMeans Cluster - Movie Metdata"
   ]
  },
  {
   "cell_type": "code",
   "execution_count": 1,
   "metadata": {},
   "outputs": [],
   "source": [
    "%matplotlib inline\n",
    "from copy import deepcopy\n",
    "import numpy as np\n",
    "import pandas as pd\n",
    "import seaborn as sns\n",
    "sns.set() # For plot styling\n",
    "from matplotlib import pyplot as plt\n",
    "plt.rcParams[\"figure.figsize\"] = (16, 9)\n",
    "plt.style.use(\"ggplot\")"
   ]
  },
  {
   "cell_type": "markdown",
   "metadata": {},
   "source": [
    "## Importing dataset"
   ]
  },
  {
   "cell_type": "code",
   "execution_count": 2,
   "metadata": {},
   "outputs": [
    {
     "name": "stdout",
     "output_type": "stream",
     "text": [
      "(5043, 28)\n"
     ]
    }
   ],
   "source": [
    "data = pd.read_csv(\"data/movie_metadata.csv\")\n",
    "print(data.shape)"
   ]
  },
  {
   "cell_type": "code",
   "execution_count": 3,
   "metadata": {},
   "outputs": [
    {
     "name": "stdout",
     "output_type": "stream",
     "text": [
      "<bound method NDFrame.head of       color      director_name  num_critic_for_reviews  duration  \\\n",
      "0     Color      James Cameron                   723.0     178.0   \n",
      "1     Color     Gore Verbinski                   302.0     169.0   \n",
      "2     Color         Sam Mendes                   602.0     148.0   \n",
      "3     Color  Christopher Nolan                   813.0     164.0   \n",
      "4       NaN        Doug Walker                     NaN       NaN   \n",
      "...     ...                ...                     ...       ...   \n",
      "5038  Color        Scott Smith                     1.0      87.0   \n",
      "5039  Color                NaN                    43.0      43.0   \n",
      "5040  Color   Benjamin Roberds                    13.0      76.0   \n",
      "5041  Color        Daniel Hsia                    14.0     100.0   \n",
      "5042  Color           Jon Gunn                    43.0      90.0   \n",
      "\n",
      "      director_facebook_likes  actor_3_facebook_likes      actor_2_name  \\\n",
      "0                         0.0                   855.0  Joel David Moore   \n",
      "1                       563.0                  1000.0     Orlando Bloom   \n",
      "2                         0.0                   161.0      Rory Kinnear   \n",
      "3                     22000.0                 23000.0    Christian Bale   \n",
      "4                       131.0                     NaN        Rob Walker   \n",
      "...                       ...                     ...               ...   \n",
      "5038                      2.0                   318.0     Daphne Zuniga   \n",
      "5039                      NaN                   319.0     Valorie Curry   \n",
      "5040                      0.0                     0.0     Maxwell Moody   \n",
      "5041                      0.0                   489.0     Daniel Henney   \n",
      "5042                     16.0                    16.0  Brian Herzlinger   \n",
      "\n",
      "      actor_1_facebook_likes        gross                           genres  \\\n",
      "0                     1000.0  760505847.0  Action|Adventure|Fantasy|Sci-Fi   \n",
      "1                    40000.0  309404152.0         Action|Adventure|Fantasy   \n",
      "2                    11000.0  200074175.0        Action|Adventure|Thriller   \n",
      "3                    27000.0  448130642.0                  Action|Thriller   \n",
      "4                      131.0          NaN                      Documentary   \n",
      "...                      ...          ...                              ...   \n",
      "5038                   637.0          NaN                     Comedy|Drama   \n",
      "5039                   841.0          NaN     Crime|Drama|Mystery|Thriller   \n",
      "5040                     0.0          NaN            Drama|Horror|Thriller   \n",
      "5041                   946.0      10443.0             Comedy|Drama|Romance   \n",
      "5042                    86.0      85222.0                      Documentary   \n",
      "\n",
      "      ... num_user_for_reviews language  country  content_rating       budget  \\\n",
      "0     ...               3054.0  English      USA           PG-13  237000000.0   \n",
      "1     ...               1238.0  English      USA           PG-13  300000000.0   \n",
      "2     ...                994.0  English       UK           PG-13  245000000.0   \n",
      "3     ...               2701.0  English      USA           PG-13  250000000.0   \n",
      "4     ...                  NaN      NaN      NaN             NaN          NaN   \n",
      "...   ...                  ...      ...      ...             ...          ...   \n",
      "5038  ...                  6.0  English   Canada             NaN          NaN   \n",
      "5039  ...                359.0  English      USA           TV-14          NaN   \n",
      "5040  ...                  3.0  English      USA             NaN       1400.0   \n",
      "5041  ...                  9.0  English      USA           PG-13          NaN   \n",
      "5042  ...                 84.0  English      USA              PG       1100.0   \n",
      "\n",
      "      title_year actor_2_facebook_likes imdb_score  aspect_ratio  \\\n",
      "0         2009.0                  936.0        7.9          1.78   \n",
      "1         2007.0                 5000.0        7.1          2.35   \n",
      "2         2015.0                  393.0        6.8          2.35   \n",
      "3         2012.0                23000.0        8.5          2.35   \n",
      "4            NaN                   12.0        7.1           NaN   \n",
      "...          ...                    ...        ...           ...   \n",
      "5038      2013.0                  470.0        7.7           NaN   \n",
      "5039         NaN                  593.0        7.5         16.00   \n",
      "5040      2013.0                    0.0        6.3           NaN   \n",
      "5041      2012.0                  719.0        6.3          2.35   \n",
      "5042      2004.0                   23.0        6.6          1.85   \n",
      "\n",
      "     movie_facebook_likes  \n",
      "0                   33000  \n",
      "1                       0  \n",
      "2                   85000  \n",
      "3                  164000  \n",
      "4                       0  \n",
      "...                   ...  \n",
      "5038                   84  \n",
      "5039                32000  \n",
      "5040                   16  \n",
      "5041                  660  \n",
      "5042                  456  \n",
      "\n",
      "[5043 rows x 28 columns]>\n"
     ]
    }
   ],
   "source": [
    "print(data.head)"
   ]
  },
  {
   "cell_type": "code",
   "execution_count": 4,
   "metadata": {},
   "outputs": [
    {
     "data": {
      "text/plain": [
       "0           0.0\n",
       "1         563.0\n",
       "2           0.0\n",
       "3       22000.0\n",
       "4         131.0\n",
       "         ...   \n",
       "5038        2.0\n",
       "5039        NaN\n",
       "5040        0.0\n",
       "5041        0.0\n",
       "5042       16.0\n",
       "Name: director_facebook_likes, Length: 5043, dtype: float64"
      ]
     },
     "execution_count": 4,
     "metadata": {},
     "output_type": "execute_result"
    }
   ],
   "source": [
    "data[\"director_facebook_likes\"]"
   ]
  },
  {
   "cell_type": "code",
   "execution_count": 5,
   "metadata": {},
   "outputs": [
    {
     "data": {
      "text/plain": [
       "Index(['color', 'director_name', 'num_critic_for_reviews', 'duration',\n",
       "       'director_facebook_likes', 'actor_3_facebook_likes', 'actor_2_name',\n",
       "       'actor_1_facebook_likes', 'gross', 'genres', 'actor_1_name',\n",
       "       'movie_title', 'num_voted_users', 'cast_total_facebook_likes',\n",
       "       'actor_3_name', 'facenumber_in_poster', 'plot_keywords',\n",
       "       'movie_imdb_link', 'num_user_for_reviews', 'language', 'country',\n",
       "       'content_rating', 'budget', 'title_year', 'actor_2_facebook_likes',\n",
       "       'imdb_score', 'aspect_ratio', 'movie_facebook_likes'],\n",
       "      dtype='object')"
      ]
     },
     "execution_count": 5,
     "metadata": {},
     "output_type": "execute_result"
    }
   ],
   "source": [
    "data.columns"
   ]
  },
  {
   "cell_type": "code",
   "execution_count": 6,
   "metadata": {},
   "outputs": [
    {
     "data": {
      "text/html": [
       "<div>\n",
       "<style scoped>\n",
       "    .dataframe tbody tr th:only-of-type {\n",
       "        vertical-align: middle;\n",
       "    }\n",
       "\n",
       "    .dataframe tbody tr th {\n",
       "        vertical-align: top;\n",
       "    }\n",
       "\n",
       "    .dataframe thead th {\n",
       "        text-align: right;\n",
       "    }\n",
       "</style>\n",
       "<table border=\"1\" class=\"dataframe\">\n",
       "  <thead>\n",
       "    <tr style=\"text-align: right;\">\n",
       "      <th></th>\n",
       "      <th>director_facebook_likes</th>\n",
       "      <th>actor_3_facebook_likes</th>\n",
       "    </tr>\n",
       "  </thead>\n",
       "  <tbody>\n",
       "    <tr>\n",
       "      <th>0</th>\n",
       "      <td>0.0</td>\n",
       "      <td>855.0</td>\n",
       "    </tr>\n",
       "    <tr>\n",
       "      <th>1</th>\n",
       "      <td>563.0</td>\n",
       "      <td>1000.0</td>\n",
       "    </tr>\n",
       "    <tr>\n",
       "      <th>2</th>\n",
       "      <td>0.0</td>\n",
       "      <td>161.0</td>\n",
       "    </tr>\n",
       "    <tr>\n",
       "      <th>3</th>\n",
       "      <td>22000.0</td>\n",
       "      <td>23000.0</td>\n",
       "    </tr>\n",
       "    <tr>\n",
       "      <th>4</th>\n",
       "      <td>131.0</td>\n",
       "      <td>NaN</td>\n",
       "    </tr>\n",
       "    <tr>\n",
       "      <th>...</th>\n",
       "      <td>...</td>\n",
       "      <td>...</td>\n",
       "    </tr>\n",
       "    <tr>\n",
       "      <th>5038</th>\n",
       "      <td>2.0</td>\n",
       "      <td>318.0</td>\n",
       "    </tr>\n",
       "    <tr>\n",
       "      <th>5039</th>\n",
       "      <td>NaN</td>\n",
       "      <td>319.0</td>\n",
       "    </tr>\n",
       "    <tr>\n",
       "      <th>5040</th>\n",
       "      <td>0.0</td>\n",
       "      <td>0.0</td>\n",
       "    </tr>\n",
       "    <tr>\n",
       "      <th>5041</th>\n",
       "      <td>0.0</td>\n",
       "      <td>489.0</td>\n",
       "    </tr>\n",
       "    <tr>\n",
       "      <th>5042</th>\n",
       "      <td>16.0</td>\n",
       "      <td>16.0</td>\n",
       "    </tr>\n",
       "  </tbody>\n",
       "</table>\n",
       "<p>5043 rows × 2 columns</p>\n",
       "</div>"
      ],
      "text/plain": [
       "      director_facebook_likes  actor_3_facebook_likes\n",
       "0                         0.0                   855.0\n",
       "1                       563.0                  1000.0\n",
       "2                         0.0                   161.0\n",
       "3                     22000.0                 23000.0\n",
       "4                       131.0                     NaN\n",
       "...                       ...                     ...\n",
       "5038                      2.0                   318.0\n",
       "5039                      NaN                   319.0\n",
       "5040                      0.0                     0.0\n",
       "5041                      0.0                   489.0\n",
       "5042                     16.0                    16.0\n",
       "\n",
       "[5043 rows x 2 columns]"
      ]
     },
     "execution_count": 6,
     "metadata": {},
     "output_type": "execute_result"
    }
   ],
   "source": [
    "newdata = data.iloc[:, 4:6]\n",
    "newdata"
   ]
  },
  {
   "cell_type": "code",
   "execution_count": 7,
   "metadata": {},
   "outputs": [
    {
     "data": {
      "text/plain": [
       "director_facebook_likes    104\n",
       "actor_3_facebook_likes      23\n",
       "dtype: int64"
      ]
     },
     "execution_count": 7,
     "metadata": {},
     "output_type": "execute_result"
    }
   ],
   "source": [
    "newdata.isnull().sum()"
   ]
  },
  {
   "cell_type": "code",
   "execution_count": 8,
   "metadata": {},
   "outputs": [],
   "source": [
    "newdata.dropna(inplace=True)"
   ]
  },
  {
   "cell_type": "code",
   "execution_count": 9,
   "metadata": {},
   "outputs": [
    {
     "data": {
      "text/plain": [
       "director_facebook_likes    0\n",
       "actor_3_facebook_likes     0\n",
       "dtype: int64"
      ]
     },
     "execution_count": 9,
     "metadata": {},
     "output_type": "execute_result"
    }
   ],
   "source": [
    "newdata.isnull().sum()"
   ]
  },
  {
   "cell_type": "markdown",
   "metadata": {},
   "source": [
    "## Using the Kmeans from sklearn"
   ]
  },
  {
   "cell_type": "code",
   "execution_count": 10,
   "metadata": {},
   "outputs": [],
   "source": [
    "from sklearn.cluster import KMeans"
   ]
  },
  {
   "cell_type": "code",
   "execution_count": 11,
   "metadata": {},
   "outputs": [],
   "source": [
    "kmeans = KMeans(n_clusters = 5)"
   ]
  },
  {
   "cell_type": "code",
   "execution_count": 12,
   "metadata": {},
   "outputs": [
    {
     "data": {
      "text/plain": [
       "KMeans(n_clusters=5)"
      ]
     },
     "execution_count": 12,
     "metadata": {},
     "output_type": "execute_result"
    }
   ],
   "source": [
    "kmeans.fit(newdata)"
   ]
  },
  {
   "cell_type": "code",
   "execution_count": 13,
   "metadata": {},
   "outputs": [
    {
     "name": "stdout",
     "output_type": "stream",
     "text": [
      "[[  153.94452806   424.19264674]\n",
      " [17544.11764706   598.77941176]\n",
      " [  210.77011494 11126.43678161]\n",
      " [17545.45454545 14545.45454545]\n",
      " [12441.17647059   604.34313725]]\n"
     ]
    }
   ],
   "source": [
    "kmeans.cluster_centers_\n",
    "print(kmeans.cluster_centers_)"
   ]
  },
  {
   "cell_type": "code",
   "execution_count": 14,
   "metadata": {},
   "outputs": [
    {
     "name": "stdout",
     "output_type": "stream",
     "text": [
      "[0 0 0 ... 0 0 0]\n",
      "4919\n"
     ]
    }
   ],
   "source": [
    "print(kmeans.labels_)\n",
    "print(len(kmeans.labels_))"
   ]
  },
  {
   "cell_type": "code",
   "execution_count": 15,
   "metadata": {},
   "outputs": [
    {
     "name": "stdout",
     "output_type": "stream",
     "text": [
      "<class 'numpy.ndarray'>\n",
      "{0: 4651, 1: 68, 2: 87, 3: 11, 4: 102}\n"
     ]
    }
   ],
   "source": [
    "print(type(kmeans.labels_))\n",
    "unique, counts = np.unique(kmeans.labels_, return_counts=True)\n",
    "print(dict(zip(unique, counts)))"
   ]
  },
  {
   "cell_type": "markdown",
   "metadata": {},
   "source": [
    "## Plot the data"
   ]
  },
  {
   "cell_type": "code",
   "execution_count": 16,
   "metadata": {},
   "outputs": [
    {
     "name": "stderr",
     "output_type": "stream",
     "text": [
      "/Users/gajendrasahu/opt/anaconda3/envs/tensorflow20/lib/python3.7/site-packages/seaborn/_decorators.py:43: FutureWarning: Pass the following variables as keyword args: x, y. From version 0.12, the only valid positional argument will be `data`, and passing other arguments without an explicit keyword will result in an error or misinterpretation.\n",
      "  FutureWarning\n"
     ]
    },
    {
     "data": {
      "text/plain": [
       "<seaborn.axisgrid.FacetGrid at 0x7faef700d790>"
      ]
     },
     "execution_count": 16,
     "metadata": {},
     "output_type": "execute_result"
    },
    {
     "data": {
      "image/png": "[encoded data removed]",
      "text/plain": [
       "<Figure size 477.725x432 with 1 Axes>"
      ]
     },
     "metadata": {},
     "output_type": "display_data"
    }
   ],
   "source": [
    "newdata[\"cluster\"] = kmeans.labels_\n",
    "sns.set_style(\"whitegrid\")\n",
    "sns.lmplot(\"director_facebook_likes\", \"actor_3_facebook_likes\", data=newdata, hue=\"cluster\", palette=\"coolwarm\",\n",
    "          height=6, aspect=1, fit_reg=False)"
   ]
  },
  {
   "cell_type": "code",
   "execution_count": null,
   "metadata": {},
   "outputs": [],
   "source": []
  }
 ],
 "metadata": {
  "kernelspec": {
   "display_name": "Python 3",
   "language": "python",
   "name": "python3"
  },
  "language_info": {
   "codemirror_mode": {
    "name": "ipython",
    "version": 3
   },
   "file_extension": ".py",
   "mimetype": "text/x-python",
   "name": "python",
   "nbconvert_exporter": "python",
   "pygments_lexer": "ipython3",
   "version": "3.7.9"
  }
 },
 "nbformat": 4,
 "nbformat_minor": 4
}
