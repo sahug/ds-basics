{
 "cells": [
  {
   "cell_type": "markdown",
   "metadata": {},
   "source": [
    "# Data Science Basics - Q Learning Numpy - Bellman Equation"
   ]
  },
  {
   "cell_type": "code",
   "execution_count": null,
   "metadata": {},
   "outputs": [],
   "source": [
    "# Only Numpy\n",
    "import numpy as np"
   ]
  },
  {
   "cell_type": "code",
   "execution_count": null,
   "metadata": {},
   "outputs": [],
   "source": [
    "# Initaialize parameters\n",
    "gamma = 0.75  # Discount factor\n",
    "alpha = 0.9  # Learning rate\n",
    "print(gamma)\n",
    "print(alpha)"
   ]
  },
  {
   "cell_type": "code",
   "execution_count": null,
   "metadata": {},
   "outputs": [],
   "source": [
    "# Define the states in neumerical form\n",
    "location_to_state = {\n",
    "    \"L1\": 0,\n",
    "    \"L2\": 1,\n",
    "    \"L3\": 2,\n",
    "    \"L4\": 3,\n",
    "    \"L5\": 4,\n",
    "    \"L6\": 5,\n",
    "    \"L7\": 6,\n",
    "    \"L8\": 7,\n",
    "    \"L9\": 8,\n",
    "}\n",
    "print(location_to_state)"
   ]
  },
  {
   "cell_type": "code",
   "execution_count": null,
   "metadata": {},
   "outputs": [],
   "source": [
    "# Define the actions\n",
    "actions = [0, 1, 2, 3, 4, 5, 6, 7, 8]\n",
    "actions"
   ]
  },
  {
   "cell_type": "code",
   "execution_count": null,
   "metadata": {},
   "outputs": [],
   "source": [
    "# Define the rewards. 1 for each state directly reachable rest is 0.\n",
    "rewards = np.array(\n",
    "    [\n",
    "        [0, 1, 0, 0, 0, 0, 0, 0, 0],\n",
    "        [1, 0, 1, 0, 0, 0, 0, 0, 0],\n",
    "        [0, 1, 0, 0, 0, 1, 0, 0, 0],\n",
    "        [0, 0, 0, 0, 0, 0, 1, 0, 0],\n",
    "        [0, 1, 0, 0, 0, 0, 0, 1, 0],\n",
    "        [0, 0, 1, 0, 0, 0, 0, 0, 0],\n",
    "        [0, 0, 0, 1, 0, 0, 0, 1, 0],\n",
    "        [0, 0, 0, 0, 1, 0, 1, 0, 1],\n",
    "        [0, 0, 0, 0, 0, 0, 0, 1, 0],\n",
    "    ]\n",
    ")\n",
    "rewards"
   ]
  },
  {
   "cell_type": "code",
   "execution_count": null,
   "metadata": {},
   "outputs": [],
   "source": [
    "# Maps indices to Locations\n",
    "state_to_location = dict(\n",
    "    (state, location) for location, state in location_to_state.items()\n",
    ")"
   ]
  },
  {
   "cell_type": "code",
   "execution_count": null,
   "metadata": {},
   "outputs": [],
   "source": [
    "def get_optimal_route(start_location, end_location):\n",
    "    rewards_new = np.copy(rewards)\n",
    "    ending_state = location_to_state[end_location]\n",
    "    rewards_new[ending_state, ending_state] = 999\n",
    "\n",
    "    Q = np.array(np.zeros([9, 9]))\n",
    "\n",
    "    # Q-Learning process\n",
    "    for i in range(100):\n",
    "        # Picking up a random state\n",
    "        current_state = np.random.randint(0, 9)  # Python excludes the upper bound\n",
    "        playable_actions = []\n",
    "\n",
    "        # Iterating through the new rewards matrix\n",
    "        for j in range(9):\n",
    "            if rewards_new[current_state, j] > 0:\n",
    "                playable_actions.append(j)\n",
    "\n",
    "        # Pick a random action that will lead us to next state\n",
    "        next_state = np.random.choice(playable_actions)\n",
    "\n",
    "        # Computing Temporal Difference\n",
    "        TD = (\n",
    "            rewards_new[current_state, next_state]\n",
    "            + gamma * Q[next_state, np.argmax(Q[next_state,])]\n",
    "            - Q[current_state, next_state]\n",
    "        )\n",
    "\n",
    "        # Updating the Q-Value using the Bellman equation\n",
    "        Q[current_state, next_state] += alpha * TD\n",
    "\n",
    "    # Initialize the optimal route with the starting location\n",
    "    route = [start_location]\n",
    "\n",
    "    # Initialize next_location with starting location\n",
    "    next_location = start_location\n",
    "\n",
    "    # We don't know about the exact number of iterations needed to reach to the final location hence while loop will be a good choice for iteratiing\n",
    "    while next_location != end_location:\n",
    "\n",
    "        # Fetch the starting state\n",
    "        starting_state = location_to_state[start_location]\n",
    "\n",
    "        # Fetch the highest Q-value pertaining to starting state\n",
    "        next_state = np.argmax(Q[starting_state,])\n",
    "\n",
    "        # We got the index of the next state. But we need the corresponding letter.\n",
    "        next_location = state_to_location[next_state]\n",
    "        route.append(next_location)\n",
    "\n",
    "        # Update the starting location for the next iteration\n",
    "        start_location = next_location\n",
    "\n",
    "    return route"
   ]
  },
  {
   "cell_type": "code",
   "execution_count": null,
   "metadata": {},
   "outputs": [],
   "source": [
    "# Print the route\n",
    "print(\"Here\")\n",
    "print(get_optimal_route(\"L1\", \"L9\"))\n",
    "print(\"Now here\")"
   ]
  }
 ],
 "metadata": {
  "kernelspec": {
   "display_name": "Python 3",
   "language": "python",
   "name": "python3"
  },
  "language_info": {
   "codemirror_mode": {
    "name": "ipython",
    "version": 3
   },
   "file_extension": ".py",
   "mimetype": "text/x-python",
   "name": "python",
   "nbconvert_exporter": "python",
   "pygments_lexer": "ipython3",
   "version": "3.7.9"
  }
 },
 "nbformat": 4,
 "nbformat_minor": 4
}
