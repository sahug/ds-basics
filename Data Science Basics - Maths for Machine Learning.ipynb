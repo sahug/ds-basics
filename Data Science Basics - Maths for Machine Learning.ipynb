{
  "nbformat": 4,
  "nbformat_minor": 0,
  "metadata": {
    "colab": {
      "name": "Data Science Basics - Maths for Machine Learning.ipynb",
      "provenance": [],
      "collapsed_sections": [],
      "authorship_tag": "ABX9TyMTDaDaQsuaAh3a5Uvs3YMw",
      "include_colab_link": true
    },
    "kernelspec": {
      "name": "python3",
      "display_name": "Python 3"
    },
    "language_info": {
      "name": "python"
    }
  },
  "cells": [
    {
      "cell_type": "markdown",
      "metadata": {
        "id": "view-in-github",
        "colab_type": "text"
      },
      "source": [
        "<a href=\"https://colab.research.google.com/github/sahug/ds-basics/blob/main/Data%20Science%20Basics%20-%20Maths%20for%20Machine%20Learning.ipynb\" target=\"_parent\"><img src=\"https://colab.research.google.com/assets/colab-badge.svg\" alt=\"Open In Colab\"/></a>"
      ]
    },
    {
      "cell_type": "markdown",
      "source": [
        "**Data Science Basics - Maths for Machine Learning**"
      ],
      "metadata": {
        "id": "Z7YbE-0bfp82"
      }
    },
    {
      "cell_type": "markdown",
      "source": [
        "**Vectors**"
      ],
      "metadata": {
        "id": "DLzMTScZfr16"
      }
    },
    {
      "cell_type": "code",
      "execution_count": null,
      "metadata": {
        "id": "jfmlprrTfNyW"
      },
      "outputs": [],
      "source": [
        "import numpy as np"
      ]
    },
    {
      "cell_type": "markdown",
      "source": [
        "**Create**"
      ],
      "metadata": {
        "id": "IuwxPh0YgDQ1"
      }
    },
    {
      "cell_type": "code",
      "source": [
        "v1 = np.array([1,2,3])\n",
        "v2 = np.array([4,5,6])\n",
        "print(v1)\n",
        "print(type(v1))"
      ],
      "metadata": {
        "colab": {
          "base_uri": "https://localhost:8080/"
        },
        "id": "kD4fwcskgASs",
        "outputId": "482cbcd2-6dba-4d99-b046-38c5f9fa36ea"
      },
      "execution_count": null,
      "outputs": [
        {
          "output_type": "stream",
          "name": "stdout",
          "text": [
            "[1 2 3]\n",
            "<class 'numpy.ndarray'>\n"
          ]
        }
      ]
    },
    {
      "cell_type": "markdown",
      "source": [
        "**Addition**"
      ],
      "metadata": {
        "id": "wBrAJ8atgHFl"
      }
    },
    {
      "cell_type": "code",
      "source": [
        "v4 = v1 + v2\n",
        "print(v1)\n",
        "print(v2)\n",
        "print(v4)"
      ],
      "metadata": {
        "colab": {
          "base_uri": "https://localhost:8080/"
        },
        "id": "qajKCt6CgFsM",
        "outputId": "70990931-d583-44bc-8ba4-df65d79c5b5b"
      },
      "execution_count": null,
      "outputs": [
        {
          "output_type": "stream",
          "name": "stdout",
          "text": [
            "[1 2 3]\n",
            "[4 5 6]\n",
            "[5 7 9]\n"
          ]
        }
      ]
    },
    {
      "cell_type": "markdown",
      "source": [
        "**Subtraction**"
      ],
      "metadata": {
        "id": "WOz5o1pyg1wb"
      }
    },
    {
      "cell_type": "code",
      "source": [
        "v4 = v1 - v2\n",
        "print(v1)\n",
        "print(v2)\n",
        "print(v4)"
      ],
      "metadata": {
        "colab": {
          "base_uri": "https://localhost:8080/"
        },
        "id": "N_WiM0_sg1RW",
        "outputId": "08f3f8be-0bbd-4bba-b610-dc946093bf0c"
      },
      "execution_count": null,
      "outputs": [
        {
          "output_type": "stream",
          "name": "stdout",
          "text": [
            "[1 2 3]\n",
            "[4 5 6]\n",
            "[-3 -3 -3]\n"
          ]
        }
      ]
    },
    {
      "cell_type": "markdown",
      "source": [
        "**Multiplication**"
      ],
      "metadata": {
        "id": "3_3a9Nl5gLPL"
      }
    },
    {
      "cell_type": "code",
      "source": [
        "v3 = 2*v1\n",
        "print(v1)\n",
        "print(v3)"
      ],
      "metadata": {
        "colab": {
          "base_uri": "https://localhost:8080/"
        },
        "id": "Bdkx1jxNgM7h",
        "outputId": "30c3fb46-190a-467b-b453-9f2dfac0af09"
      },
      "execution_count": null,
      "outputs": [
        {
          "output_type": "stream",
          "name": "stdout",
          "text": [
            "[1 2 3]\n",
            "[2 4 6]\n"
          ]
        }
      ]
    },
    {
      "cell_type": "code",
      "source": [
        "v1 = np.array([1,2,3])\n",
        "v2 = np.array([4,5,6])\n",
        "print(v1*v2)"
      ],
      "metadata": {
        "colab": {
          "base_uri": "https://localhost:8080/"
        },
        "id": "coiBij61goZm",
        "outputId": "9a3444de-509a-452e-bbf8-390a68a89af1"
      },
      "execution_count": null,
      "outputs": [
        {
          "output_type": "stream",
          "name": "stdout",
          "text": [
            "[ 4 10 18]\n"
          ]
        }
      ]
    },
    {
      "cell_type": "markdown",
      "source": [
        "**Division**"
      ],
      "metadata": {
        "id": "_I17n6gQgPdX"
      }
    },
    {
      "cell_type": "code",
      "source": [
        "v5 = v2/2\n",
        "print(v5)"
      ],
      "metadata": {
        "colab": {
          "base_uri": "https://localhost:8080/"
        },
        "id": "M58aTxTTgQ4O",
        "outputId": "b8f696d5-c718-4e39-ce06-fd694be36100"
      },
      "execution_count": null,
      "outputs": [
        {
          "output_type": "stream",
          "name": "stdout",
          "text": [
            "[2.  2.5 3. ]\n"
          ]
        }
      ]
    },
    {
      "cell_type": "code",
      "source": [
        "v4 = v1 / v2\n",
        "print(v1)\n",
        "print(v2)\n",
        "print(v4)"
      ],
      "metadata": {
        "colab": {
          "base_uri": "https://localhost:8080/"
        },
        "id": "tX9eHO-Eg7yK",
        "outputId": "e41c271e-7050-4166-8cf0-872afd6d1d37"
      },
      "execution_count": null,
      "outputs": [
        {
          "output_type": "stream",
          "name": "stdout",
          "text": [
            "[1 2 3]\n",
            "[4 5 6]\n",
            "[0.25 0.4  0.5 ]\n"
          ]
        }
      ]
    },
    {
      "cell_type": "markdown",
      "source": [
        "**Projection Basis**"
      ],
      "metadata": {
        "id": "kE8gxdVRhQiF"
      }
    },
    {
      "cell_type": "markdown",
      "source": [
        "Import the libraries required"
      ],
      "metadata": {
        "id": "fNZ9NOeRhhA_"
      }
    },
    {
      "cell_type": "code",
      "source": [
        "import numpy as np\n",
        "import numpy.linalg as la\n",
        "import matplotlib.pyplot as plt"
      ],
      "metadata": {
        "id": "QJwUn8UnhULy"
      },
      "execution_count": null,
      "outputs": []
    },
    {
      "cell_type": "markdown",
      "source": [
        "Unit basis vectors (typical Cartesian axis basis vectors)"
      ],
      "metadata": {
        "id": "dqYpkR9whldU"
      }
    },
    {
      "cell_type": "code",
      "source": [
        "ihat = np.array([1,0])\n",
        "jhat = np.array([0,1])"
      ],
      "metadata": {
        "id": "n2jcuVUNhUvV"
      },
      "execution_count": null,
      "outputs": []
    },
    {
      "cell_type": "markdown",
      "source": [
        "The vector v"
      ],
      "metadata": {
        "id": "BGS5exjKhpqg"
      }
    },
    {
      "cell_type": "code",
      "source": [
        "v = np.array([ 2, 2 ])\n",
        "v"
      ],
      "metadata": {
        "colab": {
          "base_uri": "https://localhost:8080/"
        },
        "id": "OH44QqRDhqn_",
        "outputId": "cab3f47c-878d-40d5-a2f2-3e68284fbb32"
      },
      "execution_count": null,
      "outputs": [
        {
          "output_type": "execute_result",
          "data": {
            "text/plain": [
              "array([2, 2])"
            ]
          },
          "metadata": {},
          "execution_count": 23
        }
      ]
    },
    {
      "cell_type": "markdown",
      "source": [
        "Now we define a scalar `s`, such that `s` multiplied by the `magnitude` of the vector `v = 1`. We do this operation just to create a unit vector in the same direction as the vector `v`. Note that the magnitude of the vector `v is ~ 2.82843` or `(2*(root 2))`"
      ],
      "metadata": {
        "id": "Ds9zTNgThsK3"
      }
    },
    {
      "cell_type": "code",
      "source": [
        "s_len = la.norm(v)\n",
        "print(s_len)\n",
        "s = 1/la.norm(v)\n",
        "print(s)"
      ],
      "metadata": {
        "colab": {
          "base_uri": "https://localhost:8080/"
        },
        "id": "iAlLJuN7h8Lp",
        "outputId": "643541d9-8fb9-471a-fb33-f4504f14d86b"
      },
      "execution_count": null,
      "outputs": [
        {
          "output_type": "stream",
          "name": "stdout",
          "text": [
            "2.8284271247461903\n",
            "0.35355339059327373\n"
          ]
        }
      ]
    },
    {
      "cell_type": "markdown",
      "source": [
        "We can confirm this by multiplying by la.norm, thus the proof `s * la.norm(v) = 1`"
      ],
      "metadata": {
        "id": "pRNxoh88h_fH"
      }
    },
    {
      "cell_type": "code",
      "source": [
        "check = s * la.norm(v)\n",
        "check"
      ],
      "metadata": {
        "colab": {
          "base_uri": "https://localhost:8080/"
        },
        "id": "cRaj4GUniDY0",
        "outputId": "83cfb9df-1890-45fc-bb78-4d8fd6cd97f9"
      },
      "execution_count": null,
      "outputs": [
        {
          "output_type": "execute_result",
          "data": {
            "text/plain": [
              "1.0"
            ]
          },
          "metadata": {},
          "execution_count": 15
        }
      ]
    },
    {
      "cell_type": "markdown",
      "source": [
        "Now we calculate the unit vector (scale) based on the scalar computed"
      ],
      "metadata": {
        "id": "WEMqYwiRiGmp"
      }
    },
    {
      "cell_type": "code",
      "source": [
        "vunit = v*s\n",
        "vunit"
      ],
      "metadata": {
        "colab": {
          "base_uri": "https://localhost:8080/"
        },
        "id": "fhLeM_hyiIRw",
        "outputId": "afc99fc2-55ca-45b3-9a29-3a2a864b0d20"
      },
      "execution_count": null,
      "outputs": [
        {
          "output_type": "execute_result",
          "data": {
            "text/plain": [
              "array([0.70710678, 0.70710678])"
            ]
          },
          "metadata": {},
          "execution_count": 24
        }
      ]
    },
    {
      "cell_type": "markdown",
      "source": [
        "Dot product of vunit with unit basis vector ihat. This dot product is `+ve` when both vectors are facing the `same direction`. Not using `np.dot` as numpy docs recommend `'@'` when the operands are vectors."
      ],
      "metadata": {
        "id": "81xr6296iJw1"
      }
    },
    {
      "cell_type": "code",
      "source": [
        "dp = vunit @ ihat\n",
        "dp"
      ],
      "metadata": {
        "colab": {
          "base_uri": "https://localhost:8080/"
        },
        "id": "_Yf-26lAiSmE",
        "outputId": "018e3066-e9ac-452c-9005-b487acd7651d"
      },
      "execution_count": null,
      "outputs": [
        {
          "output_type": "execute_result",
          "data": {
            "text/plain": [
              "0.7071067811865475"
            ]
          },
          "metadata": {},
          "execution_count": 17
        }
      ]
    },
    {
      "cell_type": "markdown",
      "source": [
        "Configure plot values, formatting etc. Note that projection of `vunit` on `ihat`, `jhat` is `vunit @ ihat`, `vunit @ jhat`. Demonstrating that the dot product is the cosine between two vectors."
      ],
      "metadata": {
        "id": "MTn3L9Z7iVpu"
      }
    },
    {
      "cell_type": "code",
      "source": [
        "plt.plot([0, v[0]],[0, v[1]],'b:',label='v',linewidth=3)\n",
        "plt.plot([0, vunit[0]],[0, vunit[1]],'r',label='vunit',linewidth=3)\n",
        "plt.plot([0, 1], [0, 0], 'r:', label='ihat', linewidth=4)\n",
        "plt.plot([0, 0], [0, 1], 'r:', label='jhat', linewidth=4)\n",
        "plt.plot([0, vunit[0]], [0, 0], 'k', label='prj on x',linewidth=2)\n",
        "plt.plot([0, 0], [0, vunit[1]], 'k', label='prj on y',linewidth=2)\n",
        "\n",
        "# Generate the plot with axis, grid, legend\n",
        "print(\"Confirm 1/la.norm * la.norm =\", check)\n",
        "print(\"Length of vector v:\", s_len)\n",
        "print(\"Vector vunit in same direction as v:\", vunit)\n",
        "print(\"dot product vunit with ihat +ve when facing same direction:\", dp)\n",
        "plt.axis('square')\n",
        "plt.axis(( -1, 3, -1, 3 ))\n",
        "plt.grid()\n",
        "plt.legend()\n",
        "plt.show()"
      ],
      "metadata": {
        "colab": {
          "base_uri": "https://localhost:8080/",
          "height": 338
        },
        "id": "JQ1xKykHifxs",
        "outputId": "fc7f8573-7803-4a7e-fb52-3392c0e15e11"
      },
      "execution_count": null,
      "outputs": [
        {
          "output_type": "stream",
          "name": "stdout",
          "text": [
            "Confirm 1/la.norm * la.norm = 1.0\n",
            "Length of vector v: 2.8284271247461903\n",
            "Vector vunit in same direction as v: [0.70710678 0.70710678]\n",
            "dot product vunit with ihat +ve when facing same direction: 0.7071067811865475\n"
          ]
        },
        {
          "output_type": "display_data",
          "data": {
            "text/plain": [
              "<Figure size 432x288 with 1 Axes>"
            ],
            "image/png": "[encoded data removed]"
          },
          "metadata": {
            "needs_background": "light"
          }
        }
      ]
    },
    {
      "cell_type": "markdown",
      "source": [
        "**Metrices**"
      ],
      "metadata": {
        "id": "puZftqjMpNsR"
      }
    },
    {
      "cell_type": "code",
      "source": [
        "A = np.matrix([[1,2],[3,4]])\n",
        "A, type(A)"
      ],
      "metadata": {
        "colab": {
          "base_uri": "https://localhost:8080/"
        },
        "id": "-s785sVdpP99",
        "outputId": "590df48b-08bc-400a-be62-b09560fd0198"
      },
      "execution_count": null,
      "outputs": [
        {
          "output_type": "execute_result",
          "data": {
            "text/plain": [
              "(matrix([[1, 2],\n",
              "         [3, 4]]), numpy.matrix)"
            ]
          },
          "metadata": {},
          "execution_count": 29
        }
      ]
    },
    {
      "cell_type": "code",
      "source": [
        "B = 5 + A\n",
        "B, type(B)"
      ],
      "metadata": {
        "colab": {
          "base_uri": "https://localhost:8080/"
        },
        "id": "5-AhjLIDpSJ0",
        "outputId": "756e4f58-7025-489a-c2a4-75c81d847def"
      },
      "execution_count": null,
      "outputs": [
        {
          "output_type": "execute_result",
          "data": {
            "text/plain": [
              "(matrix([[6, 7],\n",
              "         [8, 9]]), numpy.matrix)"
            ]
          },
          "metadata": {},
          "execution_count": 30
        }
      ]
    },
    {
      "cell_type": "code",
      "source": [
        "C = A + B\n",
        "C, type(C)"
      ],
      "metadata": {
        "colab": {
          "base_uri": "https://localhost:8080/"
        },
        "id": "H1B7sMLbpUJQ",
        "outputId": "37af20d9-c159-4edf-b635-5bef0c23ca01"
      },
      "execution_count": null,
      "outputs": [
        {
          "output_type": "execute_result",
          "data": {
            "text/plain": [
              "(matrix([[ 7,  9],\n",
              "         [11, 13]]), numpy.matrix)"
            ]
          },
          "metadata": {},
          "execution_count": 31
        }
      ]
    },
    {
      "cell_type": "markdown",
      "source": [
        "**Multiplication**"
      ],
      "metadata": {
        "id": "bADqc5ZDpfRE"
      }
    },
    {
      "cell_type": "markdown",
      "source": [
        "Required: # cols first matrix = # rows in second matrix\n",
        "- A, B both 2x2\n",
        "- C will have A rows, B cols"
      ],
      "metadata": {
        "id": "hctxqSeTpkGT"
      }
    },
    {
      "cell_type": "code",
      "source": [
        "# generate two 2x2 matrices A, B \n",
        "# resultant C will have A rows and B cols\n",
        "# therefore C has 2 rows and 2 cols\n",
        "A = np.matrix([[1, 2],[3, 4]])\n",
        "B = np.matrix([[5, 6],[7, 8]])\n",
        "C = A * B\n",
        "print(C)"
      ],
      "metadata": {
        "colab": {
          "base_uri": "https://localhost:8080/"
        },
        "id": "y_i9NaYapqeB",
        "outputId": "45910605-12d1-4faf-bca0-6df5381db857"
      },
      "execution_count": null,
      "outputs": [
        {
          "output_type": "stream",
          "name": "stdout",
          "text": [
            "[[19 22]\n",
            " [43 50]]\n"
          ]
        }
      ]
    },
    {
      "cell_type": "code",
      "source": [
        "# generate a 2x2 matrix A and a vector x \n",
        "# C will have A rows and x cols\n",
        "# therefore C has 2 rows and 1 cols\n",
        "A = np.matrix([[1, 2],[3, 4]])\n",
        "x = np.matrix([[5], [6]])\n",
        "C = A * x\n",
        "print(C)"
      ],
      "metadata": {
        "colab": {
          "base_uri": "https://localhost:8080/"
        },
        "id": "EG-VYVYIqA5W",
        "outputId": "ea0c3d23-f26f-4363-cc3d-3250ebe6fb5c"
      },
      "execution_count": null,
      "outputs": [
        {
          "output_type": "stream",
          "name": "stdout",
          "text": [
            "[[17]\n",
            " [39]]\n"
          ]
        }
      ]
    },
    {
      "cell_type": "markdown",
      "source": [
        "**Division**"
      ],
      "metadata": {
        "id": "gqE7E4K5qJDe"
      }
    },
    {
      "cell_type": "markdown",
      "source": [
        "Required:\n",
        "\n",
        "- The divisor matrix is square\n",
        "- The matrices must be able to be multiplied together (# cols in first matrix = # rows in the divisor matrix)\n",
        "- determinant of divisor must be non-zero"
      ],
      "metadata": {
        "id": "BlND7NRfqMcM"
      }
    },
    {
      "cell_type": "code",
      "source": [
        "# generate two 2x2 matrices A, B \n",
        "# so 1 & 2 are met: divisor is square and #cols A = #rows B\n",
        "# verify that determinant is non-zero\n",
        "A = np.matrix([[1, 2],[3, 4]])\n",
        "B = np.matrix([[5, 6],[7, 8]])\n",
        "B_det = la.det(B)\n",
        "print(round(B_det,))"
      ],
      "metadata": {
        "colab": {
          "base_uri": "https://localhost:8080/"
        },
        "id": "m0iiw_DzqSsN",
        "outputId": "59862f66-380b-4cf1-f165-f758b4773487"
      },
      "execution_count": null,
      "outputs": [
        {
          "output_type": "stream",
          "name": "stdout",
          "text": [
            "-2\n"
          ]
        }
      ]
    },
    {
      "cell_type": "code",
      "source": [
        "# invert matrix B\n",
        "B_inv = la.inv(B)\n",
        "print(B_inv)"
      ],
      "metadata": {
        "colab": {
          "base_uri": "https://localhost:8080/"
        },
        "id": "Irvc9MB1qUAc",
        "outputId": "9182a119-5eeb-42d6-f5b7-a35bac7fdd4c"
      },
      "execution_count": null,
      "outputs": [
        {
          "output_type": "stream",
          "name": "stdout",
          "text": [
            "[[-4.   3. ]\n",
            " [ 3.5 -2.5]]\n"
          ]
        }
      ]
    },
    {
      "cell_type": "code",
      "source": [
        "# for confirmation of inversion, B * B_Inv should give identity matrix I\n",
        "print(B @ B_inv)"
      ],
      "metadata": {
        "colab": {
          "base_uri": "https://localhost:8080/"
        },
        "id": "LkXAjFETqV2X",
        "outputId": "f4c56495-7bc5-4ef1-d111-11cc83dcbfa0"
      },
      "execution_count": null,
      "outputs": [
        {
          "output_type": "stream",
          "name": "stdout",
          "text": [
            "[[1. 0.]\n",
            " [0. 1.]]\n"
          ]
        }
      ]
    },
    {
      "cell_type": "code",
      "source": [
        "# multiply them to complete the operation\n",
        "# there may be two solutions so obtain both\n",
        "print(B_inv @ A)\n",
        "print(A @ B_inv)"
      ],
      "metadata": {
        "colab": {
          "base_uri": "https://localhost:8080/"
        },
        "id": "hd6ZN3B3qXhw",
        "outputId": "56593324-0997-444a-b26f-e6789b2561dc"
      },
      "execution_count": null,
      "outputs": [
        {
          "output_type": "stream",
          "name": "stdout",
          "text": [
            "[[ 5.  4.]\n",
            " [-4. -3.]]\n",
            "[[ 3. -2.]\n",
            " [ 2. -1.]]\n"
          ]
        }
      ]
    },
    {
      "cell_type": "markdown",
      "source": [
        "**Linear Transformation**"
      ],
      "metadata": {
        "id": "i_OgDe9BqomT"
      }
    },
    {
      "cell_type": "code",
      "source": [
        "# plot the original vector v\n",
        "v1 = np.array([ 1, 1 ])\n",
        "plt.plot([0, v1[0]],[0, v1[1]],'b',label='v',linewidth=2)\n",
        "plt.plot([0,1],[0,0],'r:',label='ihat')\n",
        "plt.plot([0,0],[0,1],'r:',label='jhat')\n",
        "\n",
        "plt.legend()\n",
        "plt.axis('square')\n",
        "plt.axis((-0.5,1.5,-0.5,1.5))\n",
        "plt.grid()\n",
        "plt.show()"
      ],
      "metadata": {
        "colab": {
          "base_uri": "https://localhost:8080/",
          "height": 269
        },
        "id": "Nyaia7J6qsNl",
        "outputId": "238453a5-cd2d-4860-8266-66f2a5978083"
      },
      "execution_count": null,
      "outputs": [
        {
          "output_type": "display_data",
          "data": {
            "text/plain": [
              "<Figure size 432x288 with 1 Axes>"
            ],
            "image/png": "[encoded data removed]"
          },
          "metadata": {
            "needs_background": "light"
          }
        }
      ]
    },
    {
      "cell_type": "markdown",
      "source": [
        "Operations:\n",
        "\n",
        "- Scale\n",
        "- Rotate\n",
        "- Shear"
      ],
      "metadata": {
        "id": "iNhzD3HJquZJ"
      }
    },
    {
      "cell_type": "code",
      "source": [
        "# original vector\n",
        "v1 = np.array([ 1, 1 ])\n",
        "\n",
        "# scale (different numbers along the diagonal transform matrix)\n",
        "# 2  0\n",
        "# 0  3\n",
        "TFM_Scale = np.array([[2, 0], [0, 3]])\n",
        "v2 = TFM_Scale @ v1\n",
        "print(\"Scale:\")\n",
        "print(TFM_Scale)\n",
        "print (v2)\n",
        "\n",
        "# rotate (90 degree counter clockwise rotation)\n",
        "# 0  -1\n",
        "# 1   0\n",
        "#\n",
        "#\n",
        "TFM_Rotate = np.array([[0, -1], [1, 0]])\n",
        "v3 = TFM_Rotate @ v1\n",
        "print(\"Rotate:\")\n",
        "print(TFM_Rotate)\n",
        "print (v3)\n",
        "\n",
        "# shear (along the x axis)\n",
        "# 1  1\n",
        "# 0  1\n",
        "TFM_Shear = np.array([[1, 1], [0, 1]])\n",
        "v4 = TFM_Shear @ v1\n",
        "print(\"Shear:\")\n",
        "print(TFM_Shear)\n",
        "print (v4)\n",
        "\n",
        "# plot the transformations\n",
        "plt.plot([0, v1[0]],[0, v1[1]],'b',label='v',linewidth=2)\n",
        "plt.plot([0, v2[0]],[0, v2[1]],'r:',label='scale',linewidth=2)\n",
        "plt.plot([0, v3[0]],[0, v3[1]],'g:',label='rotate',linewidth=2)\n",
        "plt.plot([0, v4[0]],[0, v4[1]],'y:',label='shear',linewidth=2)\n",
        "\n",
        "plt.legend()\n",
        "plt.axis('square')\n",
        "plt.axis((-2,3,-1,4))\n",
        "plt.grid()\n",
        "plt.show()"
      ],
      "metadata": {
        "colab": {
          "base_uri": "https://localhost:8080/",
          "height": 477
        },
        "id": "C4NquPUqqyS-",
        "outputId": "466f8405-8f41-4a89-bcc3-5a34c0920fc1"
      },
      "execution_count": null,
      "outputs": [
        {
          "output_type": "stream",
          "name": "stdout",
          "text": [
            "Scale:\n",
            "[[2 0]\n",
            " [0 3]]\n",
            "[2 3]\n",
            "Rotate:\n",
            "[[ 0 -1]\n",
            " [ 1  0]]\n",
            "[-1  1]\n",
            "Shear:\n",
            "[[1 1]\n",
            " [0 1]]\n",
            "[2 1]\n"
          ]
        },
        {
          "output_type": "display_data",
          "data": {
            "text/plain": [
              "<Figure size 432x288 with 1 Axes>"
            ],
            "image/png": "[encoded data removed]"
          },
          "metadata": {
            "needs_background": "light"
          }
        }
      ]
    },
    {
      "cell_type": "code",
      "source": [
        "# The order of transformation matters\n",
        "# scale, rotate, shear\n",
        "v5 = TFM_Scale @ v1\n",
        "v6 = TFM_Rotate @ v5\n",
        "v7 = TFM_Shear @ v6\n",
        "\n",
        "# rotate, shear, scale\n",
        "v8 = TFM_Rotate @ v1\n",
        "v9 = TFM_Shear @ v8\n",
        "v10 = TFM_Scale @ v9\n",
        "\n",
        "# plot the transformations\n",
        "plt.plot([0, v1[0]],[0, v1[1]],'b',label='v',linewidth=2)\n",
        "plt.plot([0, v7[0]],[0, v7[1]],'g:',label='sc/rot/sh',linewidth=2)\n",
        "plt.plot([0, v10[0]],[0, v10[1]],'r:',label='ro/sh/sc',linewidth=2)\n",
        "\n",
        "plt.legend(loc='upper right')\n",
        "plt.axis('square')\n",
        "plt.axis((-2,3,-1,4))\n",
        "plt.grid()\n",
        "plt.show()"
      ],
      "metadata": {
        "colab": {
          "base_uri": "https://localhost:8080/",
          "height": 269
        },
        "id": "w0kYOsYgq1P2",
        "outputId": "d32b823b-4e84-4364-ed37-c5a08ab7b4e8"
      },
      "execution_count": null,
      "outputs": [
        {
          "output_type": "display_data",
          "data": {
            "text/plain": [
              "<Figure size 432x288 with 1 Axes>"
            ],
            "image/png": "[encoded data removed]"
          },
          "metadata": {
            "needs_background": "light"
          }
        }
      ]
    },
    {
      "cell_type": "markdown",
      "source": [
        "**Gaussian Elimination**"
      ],
      "metadata": {
        "id": "P8LI-K3Nq905"
      }
    },
    {
      "cell_type": "code",
      "source": [
        "# the gauss_elim function requires one argument, a matrix that\n",
        "# describes the system of equations which we are trying to solve for\n",
        "# 2x +1y -3z =  5\n",
        "# 2x -4y +3z =  1\n",
        "# 4x -7y +1z = -1\n",
        "def gauss_elim(S):\n",
        "    print(\"\\nOriginal system of equations:\")\n",
        "    for row in range(0, len(S)):\n",
        "        print(S[row])\n",
        "    # here we are eliminating the columns, using row 1 as a reference so that we can\n",
        "    # eventually have the system of equations in upper echelon form\n",
        "    for col in range(len(S[0])):\n",
        "        for row in range(col+1, len(S)):\n",
        "            r = [(rowVal * (-(S[row][col]/S[col][col]))) for rowVal in S[col]]\n",
        "            S[row] = [round((sum(pair)),2) for pair in zip(S[row], r)]\n",
        "    # now we we can solve by substitution\n",
        "    print(\"\\nModified system of equations:\")\n",
        "    for row in range(0, len(S)):\n",
        "        print(S[row])\n",
        "    A = []\n",
        "    S.reverse()\n",
        "    for res in range(len(S)):\n",
        "        if res == 0:\n",
        "            A.append(round(S[res][-1]/S[res][-2]))\n",
        "        else:\n",
        "            inner = 0\n",
        "            # now we substitute for all known coefficients\n",
        "            for x in range(res):\n",
        "                inner += (A[x]*S[res][-2-x])\n",
        "            A.append(round((S[res][-1]-inner)/S[res][-res-2]))\n",
        "    A.reverse()\n",
        "    return A"
      ],
      "metadata": {
        "id": "_xHX5pBirA_T"
      },
      "execution_count": null,
      "outputs": []
    },
    {
      "cell_type": "code",
      "source": [
        "# call the function and pass a list of lists\n",
        "print(\"We want upper echelon form:\")\n",
        "print(\"a  b  c = d\")\n",
        "print(\"0  e  f = g\")\n",
        "print(\"0  0  h = i\")\n",
        "# 2x +1y -3z =  5\n",
        "# 2x -4y +3z =  1\n",
        "# 4x -7y +1z = -1\n",
        "Ans = gauss_elim([[2,1,-3,5],\n",
        "               [2,-4,3,1],\n",
        "               [4,-7,1,-1]])\n",
        "print(\"\\nResult:\")\n",
        "print(Ans)"
      ],
      "metadata": {
        "colab": {
          "base_uri": "https://localhost:8080/"
        },
        "id": "uPA1mQWdrEL7",
        "outputId": "0817076c-072b-4919-8092-64d69f3a466c"
      },
      "execution_count": null,
      "outputs": [
        {
          "output_type": "stream",
          "name": "stdout",
          "text": [
            "We want upper echelon form:\n",
            "a  b  c = d\n",
            "0  e  f = g\n",
            "0  0  h = i\n",
            "\n",
            "Original system of equations:\n",
            "[2, 1, -3, 5]\n",
            "[2, -4, 3, 1]\n",
            "[4, -7, 1, -1]\n",
            "\n",
            "Modified system of equations:\n",
            "[2, 1, -3, 5]\n",
            "[0.0, -5.0, 6.0, -4.0]\n",
            "[0.0, 0.0, -3.8, -3.8]\n",
            "\n",
            "Result:\n",
            "[3, 2, 1]\n"
          ]
        }
      ]
    },
    {
      "cell_type": "code",
      "source": [
        "# Ax = b\n",
        "# the solve function solves a system of linear equations given equations and solution vector\n",
        "A = np.matrix([[2,1,-3],[2,-4,3],[4,-7,1]])\n",
        "b = np.array([5,1,-1])\n",
        "x = la.solve(A,b)"
      ],
      "metadata": {
        "id": "xb5XcVqzrGGS"
      },
      "execution_count": null,
      "outputs": []
    },
    {
      "cell_type": "code",
      "source": [
        "# print the results\n",
        "print(\"A:\")\n",
        "print(A)\n",
        "print(\"\\nx:\")\n",
        "print(x)\n",
        "print(\"\\nb:\")\n",
        "print(b)"
      ],
      "metadata": {
        "colab": {
          "base_uri": "https://localhost:8080/"
        },
        "id": "DGXDc-fqrHof",
        "outputId": "6c65c8bf-a62c-4764-ea6e-56d880a5af8e"
      },
      "execution_count": null,
      "outputs": [
        {
          "output_type": "stream",
          "name": "stdout",
          "text": [
            "A:\n",
            "[[ 2  1 -3]\n",
            " [ 2 -4  3]\n",
            " [ 4 -7  1]]\n",
            "\n",
            "x:\n",
            "[3. 2. 1.]\n",
            "\n",
            "b:\n",
            "[ 5  1 -1]\n"
          ]
        }
      ]
    },
    {
      "cell_type": "code",
      "source": [
        "# allclose returns True if two arrays are element-wise equal (within a tolerance)\n",
        "np.allclose(np.dot(A,x), b)"
      ],
      "metadata": {
        "colab": {
          "base_uri": "https://localhost:8080/"
        },
        "id": "o0Qzu2IXrIyD",
        "outputId": "2243d126-0303-411b-9add-c75e8f283cd2"
      },
      "execution_count": null,
      "outputs": [
        {
          "output_type": "execute_result",
          "data": {
            "text/plain": [
              "True"
            ]
          },
          "metadata": {},
          "execution_count": 45
        }
      ]
    },
    {
      "cell_type": "markdown",
      "source": [
        "**Determinants**"
      ],
      "metadata": {
        "id": "UTe7YM9orOz5"
      }
    },
    {
      "cell_type": "markdown",
      "source": [
        "- must be a square matrix eg: 2x2, 3x3\n",
        "- determinant = 0 if columns are linearly dependent"
      ],
      "metadata": {
        "id": "kDk4dL3yrRCv"
      }
    },
    {
      "cell_type": "code",
      "source": [
        "# generate a 2x2 matrix A and calculate determinant\n",
        "A = np.matrix([[1,2],[3,4]])\n",
        "print(round(la.det(A)))"
      ],
      "metadata": {
        "colab": {
          "base_uri": "https://localhost:8080/"
        },
        "id": "_MZZAtvGrUc0",
        "outputId": "99d98ca8-92e2-4947-d1fb-d50eca16cba8"
      },
      "execution_count": null,
      "outputs": [
        {
          "output_type": "stream",
          "name": "stdout",
          "text": [
            "-2\n"
          ]
        }
      ]
    },
    {
      "cell_type": "code",
      "source": [
        "# generate a 3x3 matrix A and calculate determinant\n",
        "A = np.matrix([[3,2,6],[4,2,6],[4,4,1] ])\n",
        "print(round(la.det(A)))"
      ],
      "metadata": {
        "colab": {
          "base_uri": "https://localhost:8080/"
        },
        "id": "ZvHJr6dYrWH9",
        "outputId": "f337df86-cfc7-4dcb-8df2-540e3e9815ef"
      },
      "execution_count": null,
      "outputs": [
        {
          "output_type": "stream",
          "name": "stdout",
          "text": [
            "22\n"
          ]
        }
      ]
    },
    {
      "cell_type": "code",
      "source": [
        "print(la.det(np.eye(500)))\n",
        "print(la.det(np.eye(500) * 0.1))"
      ],
      "metadata": {
        "colab": {
          "base_uri": "https://localhost:8080/"
        },
        "id": "6cCjwz0lrXar",
        "outputId": "9ba249f3-afe5-4019-82a0-99ea2469dad7"
      },
      "execution_count": null,
      "outputs": [
        {
          "output_type": "stream",
          "name": "stdout",
          "text": [
            "1.0\n",
            "0.0\n"
          ]
        }
      ]
    },
    {
      "cell_type": "code",
      "source": [
        "# slogdet computes the sign and natural logarithm of the determinant of an array\n",
        "# succeeds where det does not\n",
        "sign, logdet = la.slogdet(np.eye(500) * 0.1)\n",
        "print(sign, logdet)\n",
        "print(sign * np.exp(logdet))"
      ],
      "metadata": {
        "colab": {
          "base_uri": "https://localhost:8080/"
        },
        "id": "ALZINdVQrYxX",
        "outputId": "7bd4a892-fc32-4ffe-e88a-6815b4f82632"
      },
      "execution_count": null,
      "outputs": [
        {
          "output_type": "stream",
          "name": "stdout",
          "text": [
            "1.0 -1151.2925464970251\n",
            "0.0\n"
          ]
        }
      ]
    },
    {
      "cell_type": "markdown",
      "source": [
        "**Orthogonal Metrices**\n",
        "\n",
        "![orthogonal_matrix_definition.png](data:image/png;base64,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)"
      ],
      "metadata": {
        "id": "ZoPuYDDDrdPo"
      }
    },
    {
      "cell_type": "code",
      "source": [
        "# a pure rotation in R2 space gives an orthogonal matrix\n",
        "# note that this is a square matrix\n",
        "A = np.matrix([[0,-1],[1,0]])\n",
        "print(\"Matrix A:\")\n",
        "print(A)\n",
        "print(\"\\nInverse of A:\")\n",
        "print(la.inv(A))\n",
        "print(\"\\nTranspose of A:\")\n",
        "print(A.T)"
      ],
      "metadata": {
        "colab": {
          "base_uri": "https://localhost:8080/"
        },
        "id": "ShIvSkcGrg6Z",
        "outputId": "fe2e7cc8-5d4b-4556-ce9e-13b0157b800b"
      },
      "execution_count": null,
      "outputs": [
        {
          "output_type": "stream",
          "name": "stdout",
          "text": [
            "Matrix A:\n",
            "[[ 0 -1]\n",
            " [ 1  0]]\n",
            "\n",
            "Inverse of A:\n",
            "[[ 0.  1.]\n",
            " [-1. -0.]]\n",
            "\n",
            "Transpose of A:\n",
            "[[ 0  1]\n",
            " [-1  0]]\n"
          ]
        }
      ]
    },
    {
      "cell_type": "code",
      "source": [
        "# now, because this is square orthonormal...\n",
        "print(\"A*AT and AT*A:\")\n",
        "print(A*(A.T))\n",
        "print((A.T)*A)\n",
        "print(\"\\nA*AInv and AInv*A:\")\n",
        "print(A*(la.inv(A)))\n",
        "print((la.inv(A)*A))"
      ],
      "metadata": {
        "colab": {
          "base_uri": "https://localhost:8080/"
        },
        "id": "a8h3gZKmriUn",
        "outputId": "64f55110-06b0-4f1c-a04b-8603dfd0166a"
      },
      "execution_count": null,
      "outputs": [
        {
          "output_type": "stream",
          "name": "stdout",
          "text": [
            "A*AT and AT*A:\n",
            "[[1 0]\n",
            " [0 1]]\n",
            "[[1 0]\n",
            " [0 1]]\n",
            "\n",
            "A*AInv and AInv*A:\n",
            "[[1. 0.]\n",
            " [0. 1.]]\n",
            "[[1. 0.]\n",
            " [0. 1.]]\n"
          ]
        }
      ]
    },
    {
      "cell_type": "code",
      "source": [
        "# use qr decomposition A = QR\n",
        "A = np.matrix([[1,2],[3,4]])\n",
        "Q, R = la.qr(A)\n",
        "print(\"A:\")\n",
        "print(A)\n",
        "print(\"\\nNow use QR Decomposition\")\n",
        "print(\"Q:\")\n",
        "print(Q)\n",
        "print(\"\\nR:\")\n",
        "print(R)\n",
        "print(\"\\nQR gives original:\")\n",
        "print(Q*R)"
      ],
      "metadata": {
        "colab": {
          "base_uri": "https://localhost:8080/"
        },
        "id": "XAodXjmurkAQ",
        "outputId": "f2c3f13c-eef3-4bb2-b96f-88631eb9968b"
      },
      "execution_count": null,
      "outputs": [
        {
          "output_type": "stream",
          "name": "stdout",
          "text": [
            "A:\n",
            "[[1 2]\n",
            " [3 4]]\n",
            "\n",
            "Now use QR Decomposition\n",
            "Q:\n",
            "[[-0.31622777 -0.9486833 ]\n",
            " [-0.9486833   0.31622777]]\n",
            "\n",
            "R:\n",
            "[[-3.16227766 -4.42718872]\n",
            " [ 0.         -0.63245553]]\n",
            "\n",
            "QR gives original:\n",
            "[[1. 2.]\n",
            " [3. 4.]]\n"
          ]
        }
      ]
    },
    {
      "cell_type": "code",
      "source": [
        "print(\"\\nDot product of Q1 with Q1\")\n",
        "print(Q[0,0]*Q[0,0]+Q[1,0]*Q[1,0])\n",
        "print(\"\\nDot product of Q2 with Q2\")\n",
        "print(Q[0,1]*Q[0,1]+Q[1,1]*Q[1,1])\n",
        "print(\"\\nDot product of Q1 with Q2\")\n",
        "print(round((Q[0,0]*Q[0,1]+Q[1,0]*Q[1,1])**2)**.5)  # squaring then taking the root to eliminate -ve\n",
        "print(\"\\nMagnitude of Q1\")\n",
        "print((Q[0,0]*Q[0,0]+Q[1,0]*Q[1,0])**.5)\n",
        "print(\"\\nMagnitude of Q2\")\n",
        "print((Q[0,1]*Q[0,1]+Q[1,1]*Q[1,1])**.5)"
      ],
      "metadata": {
        "colab": {
          "base_uri": "https://localhost:8080/"
        },
        "id": "owDTDteorlvo",
        "outputId": "07f9a211-4c87-4223-f314-93f848f19560"
      },
      "execution_count": null,
      "outputs": [
        {
          "output_type": "stream",
          "name": "stdout",
          "text": [
            "\n",
            "Dot product of Q1 with Q1\n",
            "1.0\n",
            "\n",
            "Dot product of Q2 with Q2\n",
            "1.0\n",
            "\n",
            "Dot product of Q1 with Q2\n",
            "0.0\n",
            "\n",
            "Magnitude of Q1\n",
            "1.0\n",
            "\n",
            "Magnitude of Q2\n",
            "1.0\n"
          ]
        }
      ]
    },
    {
      "cell_type": "markdown",
      "source": [
        "**Eigenvalues**\n",
        "\n",
        "Notes: The matrix behaves like a single scalar and when we find such a relationship, we refer to v as the eigen vector and lambda as its corresponding eigenvalue. Now, simplifying..."
      ],
      "metadata": {
        "id": "R-xrmu7mr_3l"
      }
    },
    {
      "cell_type": "code",
      "source": [
        "# generate a 2x2 matrix\n",
        "A = np.matrix([[4,3],[5,2]])\n",
        "\n",
        "# calculate the eigenvalues\n",
        "eigenvals = la.eigvals(A)\n",
        "eigval, eigvec = la.eig(A)\n",
        "\n",
        "# let's look at our results and then verify by hand\n",
        "print(\"Original matrix:\")\n",
        "print(A)\n",
        "print(\"\\nJust the Eigen Values:\")\n",
        "print(eigenvals)\n",
        "print(\"\\nThe Eigen Decomposition:\")\n",
        "print(\"The Eigen Values:\")\n",
        "print(eigval)\n",
        "print(\"The Eigen Vectors:\")\n",
        "print(eigvec)"
      ],
      "metadata": {
        "colab": {
          "base_uri": "https://localhost:8080/"
        },
        "id": "Y6sf098usEBI",
        "outputId": "714c1ed8-50c3-4055-f07b-e381b75ab765"
      },
      "execution_count": null,
      "outputs": [
        {
          "output_type": "stream",
          "name": "stdout",
          "text": [
            "Original matrix:\n",
            "[[4 3]\n",
            " [5 2]]\n",
            "\n",
            "Just the Eigen Values:\n",
            "[ 7. -1.]\n",
            "\n",
            "The Eigen Decomposition:\n",
            "The Eigen Values:\n",
            "[ 7. -1.]\n",
            "The Eigen Vectors:\n",
            "[[ 0.70710678 -0.51449576]\n",
            " [ 0.70710678  0.85749293]]\n"
          ]
        }
      ]
    },
    {
      "cell_type": "code",
      "source": [
        "# for a 3x3 matrix, the determinant is a little more complicated\n",
        "# not so easy to calculate by hand... so a 4 x 4 is even more complicated\n",
        "\n",
        "# generate a 4x4 matrix\n",
        "A = np.matrix([[5,1,2,1],[2,1,4,3],[1,2,1,0],[1,2,2,1]])\n",
        "\n",
        "# calculate the eigenvalues\n",
        "eigenvals = la.eigvals(A)\n",
        "print(\"Eigen Values:\")\n",
        "print(eigenvals)"
      ],
      "metadata": {
        "colab": {
          "base_uri": "https://localhost:8080/"
        },
        "id": "EMGo-WA5sHRt",
        "outputId": "5aca2715-d52e-4383-aa98-c071dd515c5b"
      },
      "execution_count": null,
      "outputs": [
        {
          "output_type": "stream",
          "name": "stdout",
          "text": [
            "Eigen Values:\n",
            "[ 7.30033132  2.81646992  0.06681848 -2.18361972]\n"
          ]
        }
      ]
    },
    {
      "cell_type": "markdown",
      "source": [
        "**Eigenvectors**"
      ],
      "metadata": {
        "id": "K5ofZzItsOZr"
      }
    },
    {
      "cell_type": "markdown",
      "source": [
        "Process:\n",
        "\n",
        "- Find the eigenvalues\n",
        "- For each eigenvalue, shift the matrix by subtracting the eigenvalue from the diagonal of the matrix\n",
        "- Find the vector v, that is contained in the null space of the shifted matrix. - This gives the eigenvector associated with the corresponding eigenvalue.\n",
        "\n",
        "NOTE: There is some ambiguity with eigenvectors. Really any scaled vector of our determined solution works as long as it is in the subspace. Something to be aware of."
      ],
      "metadata": {
        "id": "zK8L7UBVsR7L"
      }
    },
    {
      "cell_type": "code",
      "source": [
        "# generate a 2x2 matrix\n",
        "A = np.matrix([[1,4],[4,1]])\n",
        "\n",
        "# calculate the eigenvalues and corresponding eigenvectors\n",
        "eigval, eigvec = la.eig(A)"
      ],
      "metadata": {
        "id": "-XHlqxm8sRFo"
      },
      "execution_count": null,
      "outputs": []
    },
    {
      "cell_type": "code",
      "source": [
        "# these are the individual eigenvectors\n",
        "v1 = eigvec[:,0]\n",
        "v2 = eigvec[:,1]\n",
        "\n",
        "# compute the respective Av transformations\n",
        "Av1 = A @ v1\n",
        "Av2 = A @ v2\n",
        "\n",
        "# compute the magnitude or norm of each eigenvector\n",
        "v1_mag = np.sqrt(np.sum(np.square(eigvec[:,0])))\n",
        "v2_mag = np.sqrt(np.sum( np.square(eigvec[:,1])) )\n",
        "\n",
        "# print the eigenvalues and corresponding eigenvectors\n",
        "print(\"Original matrix:\")\n",
        "print(A)\n",
        "print(\"\\nThe Eigen Decomposition\")\n",
        "print(\"The Eigenvalues:\")\n",
        "print(eigval)\n",
        "print(\"The Eigenvectors:\")\n",
        "print(eigvec)\n",
        "print(\"\\nThe magnitude of v1, v2:\")\n",
        "print(round(v1_mag),round(v2_mag))\n",
        "\n",
        "# plot the eigenvectors and corresponding transforms Av1, Av2\n",
        "plt.plot([0,v1[0]],[0,v1[1]],'r',label='v1',linewidth=2)\n",
        "plt.plot([0,v2[0]],[0,v2[1]],'b',label='v2',linewidth=2)\n",
        "plt.plot([0,Av1[0]],[0,Av1[1]],'r:')\n",
        "plt.plot([0,Av2[0]],[0,Av2[1]],'b:')\n",
        "\n",
        "plt.axis('square')\n",
        "plt.grid()\n",
        "plt.axis([-2,4,-3,4])\n",
        "plt.legend()\n",
        "plt.show()"
      ],
      "metadata": {
        "colab": {
          "base_uri": "https://localhost:8080/",
          "height": 549
        },
        "id": "t_dEI-m5saIt",
        "outputId": "441ec13d-0a19-4b5f-d9af-a201b79d5e50"
      },
      "execution_count": null,
      "outputs": [
        {
          "output_type": "stream",
          "name": "stdout",
          "text": [
            "Original matrix:\n",
            "[[1 4]\n",
            " [4 1]]\n",
            "\n",
            "The Eigen Decomposition\n",
            "The Eigenvalues:\n",
            "[ 5. -3.]\n",
            "The Eigenvectors:\n",
            "[[ 0.70710678 -0.70710678]\n",
            " [ 0.70710678  0.70710678]]\n",
            "\n",
            "The magnitude of v1, v2:\n",
            "1 1\n"
          ]
        },
        {
          "output_type": "stream",
          "name": "stderr",
          "text": [
            "/usr/local/lib/python3.7/dist-packages/numpy/core/shape_base.py:65: VisibleDeprecationWarning: Creating an ndarray from ragged nested sequences (which is a list-or-tuple of lists-or-tuples-or ndarrays with different lengths or shapes) is deprecated. If you meant to do this, you must specify 'dtype=object' when creating the ndarray.\n",
            "  ary = asanyarray(ary)\n"
          ]
        },
        {
          "output_type": "display_data",
          "data": {
            "text/plain": [
              "<Figure size 432x288 with 1 Axes>"
            ],
            "image/png": "[encoded data removed]"
          },
          "metadata": {
            "needs_background": "light"
          }
        }
      ]
    },
    {
      "cell_type": "markdown",
      "source": [
        "**Pseudo Inverse**"
      ],
      "metadata": {
        "id": "jYkCpGSjsdfo"
      }
    },
    {
      "cell_type": "markdown",
      "source": [
        "Notes:\n",
        "\n",
        "- The rank of a matrix is the dimension of the vector space spanned by its columns - which corresponds to the maximal number of linearly independent columns in the matrix. This is also identical to the dimensions spanned by its rows.\n",
        "- A matrix is considered to have full rank if its rank is identical to the maximal rank for a matrix of the same dimensions. This is the lesser of the number of rows and columns.\n",
        "- A matrix is considered rank deficient if it is not full rank.\n",
        "- Here, we have a matrix that is rank deficient, since row 3 is a multiple of row 2. So, it does not have a full inverse."
      ],
      "metadata": {
        "id": "D7uc-YhesjcW"
      }
    },
    {
      "cell_type": "code",
      "source": [
        "# here is the matrix, but it is rank deficient\n",
        "A = np.matrix([[1,3,2],[0,5,2],[0,10,4]])\n",
        "B = np.matrix([[1,3,2],[0,5,2],[3,7,2]])\n",
        "\n",
        "#  compute the Moore-Penrose pseudo-inverse of a matrix A (and B for comparison later...)\n",
        "Apinv = la.pinv(A)\n",
        "Bpinv = la.pinv(B)\n",
        "\n",
        "print(\"Is rank deficient:\")\n",
        "print(la.matrix_rank(A))\n",
        "print(\"\\nOriginal matrix A:\")\n",
        "print(A)\n",
        "print(\"\\nPseudoinverse of A:\")\n",
        "print(Apinv)\n",
        "print(\"\\nA*A\")\n",
        "print(Apinv @ A)\n",
        "\n",
        "plt.subplot(1,3,1)\n",
        "plt.imshow(A), plt.axis('off')\n",
        "plt.title('A')\n",
        "\n",
        "plt.subplot(1,3,2)\n",
        "plt.imshow(Apinv), plt.axis('off')\n",
        "plt.title('pseudoinverse of A')\n",
        "\n",
        "plt.subplot(1,3,3)\n",
        "plt.imshow(Apinv @ A), plt.axis('off')\n",
        "plt.title('A$^*$A')\n",
        "\n",
        "plt.show()"
      ],
      "metadata": {
        "colab": {
          "base_uri": "https://localhost:8080/",
          "height": 444
        },
        "id": "e2K9tJCEspGA",
        "outputId": "e41bf8a0-40b2-4418-8c71-02a79de65164"
      },
      "execution_count": null,
      "outputs": [
        {
          "output_type": "stream",
          "name": "stdout",
          "text": [
            "Is rank deficient:\n",
            "2\n",
            "\n",
            "Original matrix A:\n",
            "[[ 1  3  2]\n",
            " [ 0  5  2]\n",
            " [ 0 10  4]]\n",
            "\n",
            "Pseudoinverse of A:\n",
            "[[ 0.64444444 -0.08444444 -0.16888889]\n",
            " [-0.17777778  0.05777778  0.11555556]\n",
            " [ 0.44444444 -0.04444444 -0.08888889]]\n",
            "\n",
            "A*A\n",
            "[[ 0.64444444 -0.17777778  0.44444444]\n",
            " [-0.17777778  0.91111111  0.22222222]\n",
            " [ 0.44444444  0.22222222  0.44444444]]\n"
          ]
        },
        {
          "output_type": "display_data",
          "data": {
            "text/plain": [
              "<Figure size 432x288 with 3 Axes>"
            ],
            "image/png": "[encoded data removed]"
          },
          "metadata": {
            "needs_background": "light"
          }
        }
      ]
    },
    {
      "cell_type": "code",
      "source": [
        "print(\"Is NOT rank deficient:\")\n",
        "print(la.matrix_rank(B))\n",
        "print(\"\\nOriginal matrix B:\")\n",
        "print(B)\n",
        "print(\"\\nPseudoinverse of B:\")\n",
        "print(Bpinv)\n",
        "print(\"\\nB*B\")\n",
        "print(Bpinv @ B)\n",
        "\n",
        "plt.subplot(1,3,1)\n",
        "plt.imshow(B), plt.axis('off')\n",
        "plt.title('B')\n",
        "\n",
        "plt.subplot(1,3,2)\n",
        "plt.imshow(Bpinv), plt.axis('off')\n",
        "plt.title('pseudoinverse of B')\n",
        "\n",
        "plt.subplot(1,3,3)\n",
        "plt.imshow(Bpinv @ B), plt.axis('off')\n",
        "plt.title('B$^*$B')\n",
        "\n",
        "plt.show()\n"
      ],
      "metadata": {
        "id": "fvpuVQGJssGc",
        "outputId": "ddc58f42-c844-4883-f172-9e3d66d2ee4c",
        "colab": {
          "base_uri": "https://localhost:8080/",
          "height": 444
        }
      },
      "execution_count": null,
      "outputs": [
        {
          "output_type": "stream",
          "name": "stdout",
          "text": [
            "Is NOT rank deficient:\n",
            "3\n",
            "\n",
            "Original matrix B:\n",
            "[[1 3 2]\n",
            " [0 5 2]\n",
            " [3 7 2]]\n",
            "\n",
            "Pseudoinverse of B:\n",
            "[[ 0.25   -0.5     0.25  ]\n",
            " [-0.375   0.25    0.125 ]\n",
            " [ 0.9375 -0.125  -0.3125]]\n",
            "\n",
            "B*B\n",
            "[[ 1.00000000e+00  2.33146835e-15  6.66133815e-16]\n",
            " [ 0.00000000e+00  1.00000000e+00 -4.99600361e-16]\n",
            " [-5.55111512e-16  1.33226763e-15  1.00000000e+00]]\n"
          ]
        },
        {
          "output_type": "display_data",
          "data": {
            "text/plain": [
              "<Figure size 432x288 with 3 Axes>"
            ],
            "image/png": "[encoded data removed]"
          },
          "metadata": {
            "needs_background": "light"
          }
        }
      ]
    }
  ]
}